{
 "cells": [
  {
   "cell_type": "markdown",
   "metadata": {
    "colab_type": "text",
    "id": "3ac4ywdmCec7"
   },
   "source": [
    "# Занятие №1. Первые программы на Python\n",
    "\n",
    "![alt text](https://drive.google.com/uc?export=view&id=1M05oSpwlZyh1-F-6E6P_PSmmLHUG6F0-)"
   ]
  },
  {
   "cell_type": "markdown",
   "metadata": {
    "colab_type": "text",
    "id": "mQUEIs6CFxNI"
   },
   "source": [
    "### Простейшие операции, вывод на экран"
   ]
  },
  {
   "cell_type": "code",
   "execution_count": 0,
   "metadata": {
    "colab": {},
    "colab_type": "code",
    "id": "vy94BfjSC5uT"
   },
   "outputs": [],
   "source": [
    "# Сложим два числа\n",
    "2 + 2"
   ]
  },
  {
   "cell_type": "code",
   "execution_count": 0,
   "metadata": {
    "colab": {},
    "colab_type": "code",
    "id": "TY0JmD_DDW_9"
   },
   "outputs": [],
   "source": [
    "# Умножим два числа\n",
    "2 * 3"
   ]
  },
  {
   "cell_type": "code",
   "execution_count": 0,
   "metadata": {
    "colab": {},
    "colab_type": "code",
    "id": "1YsrMjpYDwKQ"
   },
   "outputs": [],
   "source": [
    "# Проверим операцию со скобками\n",
    "3*(2 + 7)"
   ]
  },
  {
   "cell_type": "code",
   "execution_count": 0,
   "metadata": {
    "colab": {},
    "colab_type": "code",
    "id": "sePuX-PMD4Rl"
   },
   "outputs": [],
   "source": [
    "# Проверим еще и деление\n",
    "32*(4 + 8)/10"
   ]
  },
  {
   "cell_type": "code",
   "execution_count": 0,
   "metadata": {
    "colab": {},
    "colab_type": "code",
    "id": "6UMxQzn1EEkQ"
   },
   "outputs": [],
   "source": [
    "# А теперь поделим на 0!\n",
    "32/0"
   ]
  },
  {
   "cell_type": "markdown",
   "metadata": {
    "colab_type": "text",
    "id": "aoloi5-pW9fT"
   },
   "source": [
    "Обработка исключений на языке Python выполняется при помощи команд\n",
    "*try* и *except*"
   ]
  },
  {
   "cell_type": "code",
   "execution_count": 0,
   "metadata": {
    "colab": {},
    "colab_type": "code",
    "id": "P8pSMah_FAsk"
   },
   "outputs": [],
   "source": [
    "try: 32/1\n",
    "except ZeroDivisionError: print('Так нельзя!')"
   ]
  },
  {
   "cell_type": "code",
   "execution_count": 0,
   "metadata": {
    "colab": {},
    "colab_type": "code",
    "id": "VfE45v59EOyh"
   },
   "outputs": [],
   "source": [
    "# Возведем число в степень\n",
    "2**3"
   ]
  },
  {
   "cell_type": "code",
   "execution_count": 0,
   "metadata": {
    "colab": {},
    "colab_type": "code",
    "id": "G2fwq5NyE1MH"
   },
   "outputs": [],
   "source": [
    "# Команда для вывода на экран\n",
    "print(2*2)\n",
    "# Стоп! Раньше тоже происходил вывод на экран... \n",
    "# Результат последней строки каждого абзаца автоматически выводится на экран"
   ]
  },
  {
   "cell_type": "markdown",
   "metadata": {
    "colab_type": "text",
    "id": "WFG0rbUEXigZ"
   },
   "source": [
    "Широко используемый объект для хранения текстовой информации: *str*"
   ]
  },
  {
   "cell_type": "code",
   "execution_count": 0,
   "metadata": {
    "colab": {},
    "colab_type": "code",
    "id": "GoP2vhcqFFay"
   },
   "outputs": [],
   "source": [
    "text = 'I like Data Science!'"
   ]
  },
  {
   "cell_type": "code",
   "execution_count": 0,
   "metadata": {
    "colab": {},
    "colab_type": "code",
    "id": "DrXAhE4-FiHC"
   },
   "outputs": [],
   "source": [
    "text"
   ]
  },
  {
   "cell_type": "code",
   "execution_count": 0,
   "metadata": {
    "colab": {
     "base_uri": "https://localhost:8080/",
     "height": 34
    },
    "colab_type": "code",
    "executionInfo": {
     "elapsed": 725,
     "status": "ok",
     "timestamp": 1568906149280,
     "user": {
      "displayName": "Денис Ермолов",
      "photoUrl": "",
      "userId": "01582614778675332761"
     },
     "user_tz": -180
    },
    "id": "ZgZ23BdNF8p2",
    "outputId": "31a7ecc3-015c-43e9-9dc1-995eb4cd0f0e"
   },
   "outputs": [
    {
     "data": {
      "text/plain": [
       "str"
      ]
     },
     "execution_count": 14,
     "metadata": {
      "tags": []
     },
     "output_type": "execute_result"
    }
   ],
   "source": [
    "type(text)"
   ]
  },
  {
   "cell_type": "code",
   "execution_count": 0,
   "metadata": {
    "colab": {
     "base_uri": "https://localhost:8080/",
     "height": 34
    },
    "colab_type": "code",
    "executionInfo": {
     "elapsed": 926,
     "status": "ok",
     "timestamp": 1568906450088,
     "user": {
      "displayName": "Денис Ермолов",
      "photoUrl": "",
      "userId": "01582614778675332761"
     },
     "user_tz": -180
    },
    "id": "cCT7e5HRGOTZ",
    "outputId": "814cced5-f3b6-4ce8-eefe-774b940565b5"
   },
   "outputs": [
    {
     "data": {
      "text/plain": [
       "'l'"
      ]
     },
     "execution_count": 23,
     "metadata": {
      "tags": []
     },
     "output_type": "execute_result"
    }
   ],
   "source": [
    "# К символам допускается обращение как к элементам массива\n",
    "text[2]"
   ]
  },
  {
   "cell_type": "code",
   "execution_count": 0,
   "metadata": {
    "colab": {
     "base_uri": "https://localhost:8080/",
     "height": 34
    },
    "colab_type": "code",
    "executionInfo": {
     "elapsed": 615,
     "status": "ok",
     "timestamp": 1568906327874,
     "user": {
      "displayName": "Денис Ермолов",
      "photoUrl": "",
      "userId": "01582614778675332761"
     },
     "user_tz": -180
    },
    "id": "Z9ln8kPvGpkK",
    "outputId": "23667cfd-ec4e-435f-b15e-66378c8c18c5"
   },
   "outputs": [
    {
     "data": {
      "text/plain": [
       "'!'"
      ]
     },
     "execution_count": 20,
     "metadata": {
      "tags": []
     },
     "output_type": "execute_result"
    }
   ],
   "source": [
    "# Обратная нумерация элементов - очень удобная вещь!\n",
    "text[-1]"
   ]
  },
  {
   "cell_type": "code",
   "execution_count": 0,
   "metadata": {
    "colab": {
     "base_uri": "https://localhost:8080/",
     "height": 34
    },
    "colab_type": "code",
    "executionInfo": {
     "elapsed": 1400,
     "status": "ok",
     "timestamp": 1569330397541,
     "user": {
      "displayName": "Денис Ермолов",
      "photoUrl": "",
      "userId": "01582614778675332761"
     },
     "user_tz": -180
    },
    "id": "f1_ih6qBGvXx",
    "outputId": "b3a44d06-33f9-4ee0-ce9b-7a4095589fdb"
   },
   "outputs": [
    {
     "name": "stdout",
     "output_type": "stream",
     "text": [
      "I lik  #  e Data Science!\n"
     ]
    }
   ],
   "source": [
    "# Вот так можно нарезать строку на части\n",
    "print(text[:5], ' # ', text[5:])"
   ]
  },
  {
   "cell_type": "code",
   "execution_count": 0,
   "metadata": {
    "colab": {
     "base_uri": "https://localhost:8080/",
     "height": 34
    },
    "colab_type": "code",
    "executionInfo": {
     "elapsed": 784,
     "status": "ok",
     "timestamp": 1569330422101,
     "user": {
      "displayName": "Денис Ермолов",
      "photoUrl": "",
      "userId": "01582614778675332761"
     },
     "user_tz": -180
    },
    "id": "-6lw7fUzIfe_",
    "outputId": "5d508c8d-3de0-4949-b207-1835412555c9"
   },
   "outputs": [
    {
     "data": {
      "text/plain": [
       "20"
      ]
     },
     "execution_count": 6,
     "metadata": {
      "tags": []
     },
     "output_type": "execute_result"
    }
   ],
   "source": [
    "# Метод, возвращающий длину строки\n",
    "len(text)"
   ]
  },
  {
   "cell_type": "markdown",
   "metadata": {
    "colab_type": "text",
    "id": "-hFNcCPYYqk2"
   },
   "source": [
    "#### ЗАДАЧА 1\n",
    "\n",
    "Вывести по одной букве в каждой строке в прямом порядке записи!"
   ]
  },
  {
   "cell_type": "code",
   "execution_count": 0,
   "metadata": {
    "colab": {
     "base_uri": "https://localhost:8080/",
     "height": 357
    },
    "colab_type": "code",
    "executionInfo": {
     "elapsed": 704,
     "status": "ok",
     "timestamp": 1569330588418,
     "user": {
      "displayName": "Денис Ермолов",
      "photoUrl": "",
      "userId": "01582614778675332761"
     },
     "user_tz": -180
    },
    "id": "AEmq-aeMG4Is",
    "outputId": "9918943a-000b-41ea-9e6b-be16e400861b"
   },
   "outputs": [
    {
     "name": "stdout",
     "output_type": "stream",
     "text": [
      "I\n",
      " \n",
      "l\n",
      "i\n",
      "k\n",
      "e\n",
      " \n",
      "D\n",
      "a\n",
      "t\n",
      "a\n",
      " \n",
      "S\n",
      "c\n",
      "i\n",
      "e\n",
      "n\n",
      "c\n",
      "e\n",
      "!\n"
     ]
    }
   ],
   "source": [
    "for i in range(0,len(text)):\n",
    "  print(text[i])"
   ]
  },
  {
   "cell_type": "markdown",
   "metadata": {
    "colab_type": "text",
    "id": "57dXxWR0Y_CT"
   },
   "source": [
    "#### ЗАДАЧА 2\n",
    "\n",
    "Вывести по одной букве в каждой строке в обратном порядке записи!"
   ]
  },
  {
   "cell_type": "code",
   "execution_count": 0,
   "metadata": {
    "colab": {},
    "colab_type": "code",
    "id": "FUjF98XEY9qv"
   },
   "outputs": [],
   "source": [
    "for i in range(1,len(text)+1):\n",
    "  print(text[-i])"
   ]
  },
  {
   "cell_type": "markdown",
   "metadata": {
    "colab_type": "text",
    "id": "tOK5whMSZLcB"
   },
   "source": [
    "#### ЗАДАЧА 3\n",
    "\n",
    "Вывести в строке i первые i символов текста объекта str!\n",
    "\n",
    "**Пример**\n",
    "\n",
    "text = 'data'\n",
    "\n",
    "Результат работы программы:\n",
    "\n",
    "d\n",
    "\n",
    "da\n",
    "\n",
    "dat\n",
    "\n",
    "data"
   ]
  },
  {
   "cell_type": "code",
   "execution_count": 0,
   "metadata": {
    "colab": {},
    "colab_type": "code",
    "id": "R7mVz-UiHnRL"
   },
   "outputs": [],
   "source": [
    "for i in range(len(text)):\n",
    "  print(text[:i])"
   ]
  },
  {
   "cell_type": "markdown",
   "metadata": {
    "colab_type": "text",
    "id": "PLyZrUJBF7qS"
   },
   "source": [
    "### Структуры данных"
   ]
  },
  {
   "cell_type": "markdown",
   "metadata": {
    "colab_type": "text",
    "id": "8mrUtPYGZ0v3"
   },
   "source": [
    "Основные структуры данных в Python:\n",
    "\n",
    "- list;\n",
    "\n",
    "- dict;\n",
    "\n",
    "- set.\n",
    "\n",
    "Рассказать сжата о преимуществах и недостатках каждого из них здесь не получится. Отсылаем на ресурс https://pythonworld.ru/"
   ]
  },
  {
   "cell_type": "code",
   "execution_count": 0,
   "metadata": {
    "colab": {},
    "colab_type": "code",
    "id": "FiFKwQZ_GUxx"
   },
   "outputs": [],
   "source": [
    "# Созданием объекты list, dict, set\n",
    "my_list = [1,2,3,4,5,6,17,51,23]                                     #list или список\n",
    "my_set = { 1,2,3,5 }                                                 #set или множество\n",
    "my_dict = {'class': 8, 'name':'Roma', 'age':11, 'school_number':234} #dict или словарь"
   ]
  },
  {
   "cell_type": "code",
   "execution_count": 0,
   "metadata": {
    "colab": {},
    "colab_type": "code",
    "id": "1QmhSZgZHIcF"
   },
   "outputs": [],
   "source": [
    "# Обратимся к элементам массивов\n",
    "print('Элемент объекта list: ', my_list[2])\n",
    "print('Элемент объекта dict: ', my_dict['class'])"
   ]
  },
  {
   "cell_type": "code",
   "execution_count": 0,
   "metadata": {
    "colab": {},
    "colab_type": "code",
    "id": "HXJobm9KbmO3"
   },
   "outputs": [],
   "source": [
    "# Создадим dict Имя/Возраст\n",
    "name_age = {'Дмитрий': 28,'Матвей2': 17, \"Иван\" : 14,'Алексей': 16, 'Матвей1': 14, 'Даниил':14}"
   ]
  },
  {
   "cell_type": "code",
   "execution_count": 0,
   "metadata": {
    "colab": {},
    "colab_type": "code",
    "id": "2WZTSIrNboIq"
   },
   "outputs": [],
   "source": [
    "# Обращаемся к элементы dict по ключу 'Дмитрий'\n",
    "name_age['Дмитрий']"
   ]
  },
  {
   "cell_type": "code",
   "execution_count": 0,
   "metadata": {
    "colab": {},
    "colab_type": "code",
    "id": "5c8sVUTFb2Nx"
   },
   "outputs": [],
   "source": [
    "# Все ключи\n",
    "name_age.keys() "
   ]
  },
  {
   "cell_type": "code",
   "execution_count": 0,
   "metadata": {
    "colab": {},
    "colab_type": "code",
    "id": "s5faMvsLb4oj"
   },
   "outputs": [],
   "source": [
    "# Все значения\n",
    "name_age.values() "
   ]
  },
  {
   "cell_type": "markdown",
   "metadata": {
    "colab_type": "text",
    "id": "3QTxw2aRamS7"
   },
   "source": [
    "#### Задача 4\n",
    "\n",
    "Найти индекс определенного числа в объекте list."
   ]
  },
  {
   "cell_type": "code",
   "execution_count": 0,
   "metadata": {
    "colab": {
     "base_uri": "https://localhost:8080/",
     "height": 68
    },
    "colab_type": "code",
    "executionInfo": {
     "elapsed": 680,
     "status": "ok",
     "timestamp": 1568909024630,
     "user": {
      "displayName": "Денис Ермолов",
      "photoUrl": "",
      "userId": "01582614778675332761"
     },
     "user_tz": -180
    },
    "id": "uxtfB5p_Gbp9",
    "outputId": "550ca6ba-4893-492f-9f49-b2f95c2f4b74"
   },
   "outputs": [
    {
     "name": "stdout",
     "output_type": "stream",
     "text": [
      "8\n",
      "CPU times: user 200 µs, sys: 1.06 ms, total: 1.26 ms\n",
      "Wall time: 1.21 ms\n"
     ]
    }
   ],
   "source": [
    "# Найдем индекс определенного числа в list\n",
    "a = 23\n",
    "for i in range(len(my_list)):\n",
    "  if my_list[i] == a:\n",
    "    print(i)"
   ]
  },
  {
   "cell_type": "code",
   "execution_count": 0,
   "metadata": {
    "colab": {},
    "colab_type": "code",
    "id": "3F2WWTnBQUOH"
   },
   "outputs": [],
   "source": [
    "# Все уже изобретено до нас...\n",
    "my_list.index(a)"
   ]
  },
  {
   "cell_type": "markdown",
   "metadata": {
    "colab_type": "text",
    "id": "zhZrr0vNcDS7"
   },
   "source": [
    "#### Задача 5\n",
    "\n",
    "Найти максимальное (минимальное) значение в dict."
   ]
  },
  {
   "cell_type": "code",
   "execution_count": 4,
   "metadata": {
    "colab": {
     "base_uri": "https://localhost:8080/",
     "height": 34
    },
    "colab_type": "code",
    "executionInfo": {
     "elapsed": 1205,
     "status": "ok",
     "timestamp": 1569509275710,
     "user": {
      "displayName": "Денис Ермолов",
      "photoUrl": "",
      "userId": "01582614778675332761"
     },
     "user_tz": -180
    },
    "id": "d6GPa51HUIaN",
    "outputId": "ff3a6106-1a2c-4d94-fbaf-f04568170f07"
   },
   "outputs": [
    {
     "name": "stdout",
     "output_type": "stream",
     "text": [
      "34\n"
     ]
    }
   ],
   "source": [
    "name_age = {'Дмитрий': 28,'Матвей2': 17, \"Иван\" : 14,'Алексей': 16, 'Матвей1': 34, 'Даниил':14}\n",
    "max_age = 0\n",
    "for name in name_age.keys():\n",
    "  if(name_age[name]> max_age):\n",
    "    max_age = name_age[name]\n",
    "print(max_age)"
   ]
  },
  {
   "cell_type": "markdown",
   "metadata": {
    "colab_type": "text",
    "id": "p4Zg6GIDFC6Z"
   },
   "source": [
    "#### Задача 6\n",
    "\n",
    "Найти индекс максимального (минимального) значения в list."
   ]
  },
  {
   "cell_type": "code",
   "execution_count": 6,
   "metadata": {
    "colab": {
     "base_uri": "https://localhost:8080/",
     "height": 34
    },
    "colab_type": "code",
    "executionInfo": {
     "elapsed": 1137,
     "status": "ok",
     "timestamp": 1569510169906,
     "user": {
      "displayName": "Денис Ермолов",
      "photoUrl": "",
      "userId": "01582614778675332761"
     },
     "user_tz": -180
    },
    "id": "SE2dEOshE99F",
    "outputId": "43aa39cc-e466-4668-f588-953333255a90"
   },
   "outputs": [
    {
     "name": "stdout",
     "output_type": "stream",
     "text": [
      "5\n"
     ]
    }
   ],
   "source": [
    "age = [28,17,14,16,34,54]\n",
    "max_age_index = 0 # вначале считаем, что максимальный элемент лежит под номером 0\n",
    "for index in range(len(age)):\n",
    "  if age[index] > age[max_age_index]:\n",
    "    max_age_index = index\n",
    "print(max_age_index)"
   ]
  },
  {
   "cell_type": "markdown",
   "metadata": {
    "colab_type": "text",
    "id": "3yRhgvYdG6Fl"
   },
   "source": [
    "### Функции в Python"
   ]
  },
  {
   "cell_type": "code",
   "execution_count": 9,
   "metadata": {
    "colab": {
     "base_uri": "https://localhost:8080/",
     "height": 34
    },
    "colab_type": "code",
    "executionInfo": {
     "elapsed": 547,
     "status": "ok",
     "timestamp": 1569510739500,
     "user": {
      "displayName": "Денис Ермолов",
      "photoUrl": "",
      "userId": "01582614778675332761"
     },
     "user_tz": -180
    },
    "id": "SiRrHZ3zG-yd",
    "outputId": "402cf5c2-6e24-43eb-d8cc-ddc72cf6b955"
   },
   "outputs": [
    {
     "name": "stdout",
     "output_type": "stream",
     "text": [
      "27\n"
     ]
    }
   ],
   "source": [
    "# Простейшая функция\n",
    "def function_name(arg_1,arg_2):\n",
    "  return arg_1+arg_2\n",
    "\n",
    "# Вызов функции и вывод ее значения на экран\n",
    "print(function_name(10,17))"
   ]
  },
  {
   "cell_type": "markdown",
   "metadata": {
    "colab_type": "text",
    "id": "jl46lKS_IgQm"
   },
   "source": [
    "#### Задача 7\n",
    "\n",
    "Написать функцию, которая на вход принимает list, а возвращает максимальное значение в list"
   ]
  },
  {
   "cell_type": "code",
   "execution_count": 11,
   "metadata": {
    "colab": {
     "base_uri": "https://localhost:8080/",
     "height": 34
    },
    "colab_type": "code",
    "executionInfo": {
     "elapsed": 556,
     "status": "ok",
     "timestamp": 1569511422685,
     "user": {
      "displayName": "Денис Ермолов",
      "photoUrl": "",
      "userId": "01582614778675332761"
     },
     "user_tz": -180
    },
    "id": "x3XBbw5CIc0o",
    "outputId": "e4450e78-592b-4f0a-aac3-bf2470d8a019"
   },
   "outputs": [
    {
     "name": "stdout",
     "output_type": "stream",
     "text": [
      "25\n"
     ]
    }
   ],
   "source": [
    "def search_max_value(arr):\n",
    "  max_element = arr[0]\n",
    "  for i in range(len(arr)):\n",
    "    if arr[i]>max_element:\n",
    "      max_element = arr[i]\n",
    "  return max_element\n",
    "\n",
    "arr = [1,25,3,4,5,12,2,12]\n",
    "\n",
    "print(search_max_value(arr))"
   ]
  },
  {
   "cell_type": "markdown",
   "metadata": {
    "colab_type": "text",
    "id": "kjRPKHxkLKDQ"
   },
   "source": [
    "#### Задача 8\n",
    "\n",
    "Написать функцию, которая на вход принимает list из слов, а возвращает самое длинное слово"
   ]
  },
  {
   "cell_type": "code",
   "execution_count": 12,
   "metadata": {
    "colab": {
     "base_uri": "https://localhost:8080/",
     "height": 34
    },
    "colab_type": "code",
    "executionInfo": {
     "elapsed": 1363,
     "status": "ok",
     "timestamp": 1569512833390,
     "user": {
      "displayName": "Денис Ермолов",
      "photoUrl": "",
      "userId": "01582614778675332761"
     },
     "user_tz": -180
    },
    "id": "lkHijvO9LJl2",
    "outputId": "a132e987-25be-4b80-9564-ab5de34e186c"
   },
   "outputs": [
    {
     "name": "stdout",
     "output_type": "stream",
     "text": [
      "neural network\n"
     ]
    }
   ],
   "source": [
    "def search_max_word(arr):\n",
    "    max_word = arr[0]\n",
    "    for word in arr:\n",
    "      if len(max_word) < len(word):\n",
    "        max_word = word\n",
    "    return max_word\n",
    "\n",
    "arr = ['стул', 'математика','neural network','data science']\n",
    "\n",
    "print(search_max_word(arr))"
   ]
  }
 ],
 "metadata": {
  "colab": {
   "collapsed_sections": [
    "-hFNcCPYYqk2",
    "57dXxWR0Y_CT",
    "tOK5whMSZLcB"
   ],
   "name": "Занятие №1.ipynb",
   "provenance": [
    {
     "file_id": "1cpB_ehYZ7lKU5OA70i5CtTkJ1vE0vdjc",
     "timestamp": 1568033417259
    }
   ],
   "toc_visible": true
  },
  "kernelspec": {
   "display_name": "Python 3",
   "language": "python",
   "name": "python3"
  },
  "language_info": {
   "codemirror_mode": {
    "name": "ipython",
    "version": 3
   },
   "file_extension": ".py",
   "mimetype": "text/x-python",
   "name": "python",
   "nbconvert_exporter": "python",
   "pygments_lexer": "ipython3",
   "version": "3.7.3"
  }
 },
 "nbformat": 4,
 "nbformat_minor": 1
}
