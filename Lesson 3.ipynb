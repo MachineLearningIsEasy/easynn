{
  "nbformat": 4,
  "nbformat_minor": 0,
  "metadata": {
    "colab": {
      "name": "Занятие № 3.ipynb",
      "provenance": [],
      "collapsed_sections": []
    },
    "kernelspec": {
      "name": "python3",
      "display_name": "Python 3"
    }
  },
  "cells": [
    {
      "cell_type": "markdown",
      "metadata": {
        "id": "3ac4ywdmCec7",
        "colab_type": "text"
      },
      "source": [
        "# Занятие №3. "
      ]
    },
    {
      "cell_type": "code",
      "metadata": {
        "id": "vy94BfjSC5uT",
        "colab_type": "code",
        "outputId": "19676a75-ef44-4117-db97-f63de41e01e1",
        "colab": {
          "base_uri": "https://localhost:8080/",
          "height": 97
        }
      },
      "source": [
        "from keras.datasets import fashion_mnist"
      ],
      "execution_count": 0,
      "outputs": [
        {
          "output_type": "stream",
          "text": [
            "Using TensorFlow backend.\n"
          ],
          "name": "stderr"
        },
        {
          "output_type": "display_data",
          "data": {
            "text/html": [
              "<p style=\"color: red;\">\n",
              "The default version of TensorFlow in Colab will soon switch to TensorFlow 2.x.<br>\n",
              "We recommend you <a href=\"https://www.tensorflow.org/guide/migrate\" target=\"_blank\">upgrade</a> now \n",
              "or ensure your notebook will continue to use TensorFlow 1.x via the <code>%tensorflow_version 1.x</code> magic:\n",
              "<a href=\"https://colab.research.google.com/notebooks/tensorflow_version.ipynb\" target=\"_blank\">more info</a>.</p>\n"
            ],
            "text/plain": [
              "<IPython.core.display.HTML object>"
            ]
          },
          "metadata": {
            "tags": []
          }
        }
      ]
    },
    {
      "cell_type": "code",
      "metadata": {
        "id": "NuZTStrdUFN9",
        "colab_type": "code",
        "colab": {}
      },
      "source": [
        "# Выполняем загрузку DatasetА\n",
        "\n",
        "( x_train, y_train ), ( x_test, y_test ) = fashion_mnist.load_data()"
      ],
      "execution_count": 0,
      "outputs": []
    },
    {
      "cell_type": "code",
      "metadata": {
        "id": "RUXAguSQ3c2X",
        "colab_type": "code",
        "colab": {}
      },
      "source": [
        "import matplotlib.pyplot as plt\n",
        "\n",
        "def output_image(data, N): # data - весь датасет, N - номер картинки\n",
        "  image = data[N]\n",
        "  plt.figure()\n",
        "  plt.imshow(image, cmap=plt.cm.binary)\n",
        "#plt.colorbar()\n",
        "  plt.grid(False)\n",
        "  plt.show()"
      ],
      "execution_count": 0,
      "outputs": []
    },
    {
      "cell_type": "code",
      "metadata": {
        "id": "z5nqb1c_3y2n",
        "colab_type": "code",
        "outputId": "6ae2cfa4-04a3-46e0-fc15-7895e282d48c",
        "colab": {
          "base_uri": "https://localhost:8080/",
          "height": 265
        }
      },
      "source": [
        "output_image(x_train, 35200)"
      ],
      "execution_count": 0,
      "outputs": [
        {
          "output_type": "display_data",
          "data": {
            "image/png": "[encoded data removed]",
            "text/plain": [
              "<Figure size 432x288 with 1 Axes>"
            ]
          },
          "metadata": {
            "tags": []
          }
        }
      ]
    },
    {
      "cell_type": "code",
      "metadata": {
        "id": "uG6r2c5NFlM6",
        "colab_type": "code",
        "colab": {}
      },
      "source": [
        "from keras.models import Sequential\n",
        "from keras.layers.core import Dense, Activation\n",
        "\n",
        "model = Sequential()\n",
        "\n",
        "model.add(Dense(512, input_shape=(784,)) )\n",
        "\n",
        "model.add(Activation('sigmoid'))\n",
        "\n",
        "model.add(Dense(256))\n",
        "\n",
        "model.add(Activation('sigmoid'))\n",
        "\n",
        "model.add(Dense(10))\n",
        "\n",
        "model.add(Activation('softmax'))"
      ],
      "execution_count": 0,
      "outputs": []
    },
    {
      "cell_type": "code",
      "metadata": {
        "id": "dSEqyZGRHFfN",
        "colab_type": "code",
        "outputId": "87551458-1809-4276-a955-d560c1bb7dc7",
        "colab": {
          "base_uri": "https://localhost:8080/",
          "height": 357
        }
      },
      "source": [
        "model.summary()"
      ],
      "execution_count": 0,
      "outputs": [
        {
          "output_type": "stream",
          "text": [
            "Model: \"sequential_2\"\n",
            "_________________________________________________________________\n",
            "Layer (type)                 Output Shape              Param #   \n",
            "=================================================================\n",
            "dense_3 (Dense)              (None, 512)               401920    \n",
            "_________________________________________________________________\n",
            "activation_3 (Activation)    (None, 512)               0         \n",
            "_________________________________________________________________\n",
            "dense_4 (Dense)              (None, 256)               131328    \n",
            "_________________________________________________________________\n",
            "activation_4 (Activation)    (None, 256)               0         \n",
            "_________________________________________________________________\n",
            "dense_5 (Dense)              (None, 10)                2570      \n",
            "_________________________________________________________________\n",
            "activation_5 (Activation)    (None, 10)                0         \n",
            "=================================================================\n",
            "Total params: 535,818\n",
            "Trainable params: 535,818\n",
            "Non-trainable params: 0\n",
            "_________________________________________________________________\n"
          ],
          "name": "stdout"
        }
      ]
    },
    {
      "cell_type": "code",
      "metadata": {
        "id": "iSzq0824TSOJ",
        "colab_type": "code",
        "colab": {}
      },
      "source": [
        "# ПАРАМЕТРЫ ПРЕДВАРИТЕЛЬНОЙ НАСТРОЙКИ НЕЙРОСЕТИ\n",
        "\n",
        "from keras.optimizers import Adam\n",
        "\n",
        "model.compile(loss='categorical_crossentropy',\n",
        "              optimizer=Adam(), \n",
        "              metrics=['accuracy'])\n",
        "\n",
        "# ПАРАМЕТРЫ ПРЕДВАРИТЕЛЬНОЙ НАСТРОЙКИ НЕЙРОСЕТИ"
      ],
      "execution_count": 0,
      "outputs": []
    },
    {
      "cell_type": "code",
      "metadata": {
        "id": "dzgB-cYPVSIZ",
        "colab_type": "code",
        "colab": {}
      },
      "source": [
        "from keras import utils as np_utils\n",
        "\n",
        "x_train_norm = x_train.reshape(60000,784)/255\n",
        "\n",
        "y_train = np_utils.to_categorical(y_train, 10)"
      ],
      "execution_count": 0,
      "outputs": []
    },
    {
      "cell_type": "code",
      "metadata": {
        "id": "DGmvXrrxSOPP",
        "colab_type": "code",
        "outputId": "ed66b284-87bf-4e72-9b23-9a2086f44d67",
        "colab": {
          "base_uri": "https://localhost:8080/",
          "height": 34
        }
      },
      "source": [
        "y_train[1000]"
      ],
      "execution_count": 0,
      "outputs": [
        {
          "output_type": "execute_result",
          "data": {
            "text/plain": [
              "array([0., 1., 0., 0., 0., 0., 0., 0., 0., 0.], dtype=float32)"
            ]
          },
          "metadata": {
            "tags": []
          },
          "execution_count": 9
        }
      ]
    },
    {
      "cell_type": "code",
      "metadata": {
        "id": "0mjnb3VPWkhu",
        "colab_type": "code",
        "colab": {}
      },
      "source": [
        "x_test_norm = x_test.reshape(10000,784)/255\n",
        "y_test = np_utils.to_categorical(y_test, 10)"
      ],
      "execution_count": 0,
      "outputs": []
    },
    {
      "cell_type": "code",
      "metadata": {
        "id": "v0CE2B6iU0Yx",
        "colab_type": "code",
        "outputId": "8765b508-bf09-47c0-b73f-8cb2ea94cdf6",
        "colab": {
          "base_uri": "https://localhost:8080/",
          "height": 904
        }
      },
      "source": [
        "history = model.fit(x_train_norm, y_train, batch_size=100, epochs=25, validation_data=(x_test_norm,y_test) )"
      ],
      "execution_count": 0,
      "outputs": [
        {
          "output_type": "stream",
          "text": [
            "Train on 60000 samples, validate on 10000 samples\n",
            "Epoch 1/25\n",
            "60000/60000 [==============================] - 7s 122us/step - loss: 0.6067 - acc: 0.7851 - val_loss: 0.4522 - val_acc: 0.8362\n",
            "Epoch 2/25\n",
            "60000/60000 [==============================] - 7s 117us/step - loss: 0.3991 - acc: 0.8545 - val_loss: 0.4145 - val_acc: 0.8514\n",
            "Epoch 3/25\n",
            "60000/60000 [==============================] - 7s 119us/step - loss: 0.3654 - acc: 0.8661 - val_loss: 0.3970 - val_acc: 0.8594\n",
            "Epoch 4/25\n",
            "60000/60000 [==============================] - 7s 120us/step - loss: 0.3376 - acc: 0.8777 - val_loss: 0.3767 - val_acc: 0.8659\n",
            "Epoch 5/25\n",
            "60000/60000 [==============================] - 7s 120us/step - loss: 0.3197 - acc: 0.8834 - val_loss: 0.3504 - val_acc: 0.8745\n",
            "Epoch 6/25\n",
            "60000/60000 [==============================] - 7s 117us/step - loss: 0.3005 - acc: 0.8888 - val_loss: 0.3563 - val_acc: 0.8684\n",
            "Epoch 7/25\n",
            "60000/60000 [==============================] - 7s 117us/step - loss: 0.2881 - acc: 0.8937 - val_loss: 0.3372 - val_acc: 0.8791\n",
            "Epoch 8/25\n",
            "60000/60000 [==============================] - 7s 118us/step - loss: 0.2726 - acc: 0.8977 - val_loss: 0.3337 - val_acc: 0.8783\n",
            "Epoch 9/25\n",
            "60000/60000 [==============================] - 7s 120us/step - loss: 0.2626 - acc: 0.9027 - val_loss: 0.3233 - val_acc: 0.8840\n",
            "Epoch 10/25\n",
            "60000/60000 [==============================] - 7s 118us/step - loss: 0.2520 - acc: 0.9061 - val_loss: 0.3353 - val_acc: 0.8819\n",
            "Epoch 11/25\n",
            "60000/60000 [==============================] - 7s 118us/step - loss: 0.2438 - acc: 0.9092 - val_loss: 0.3265 - val_acc: 0.8834\n",
            "Epoch 12/25\n",
            "60000/60000 [==============================] - 7s 117us/step - loss: 0.2325 - acc: 0.9127 - val_loss: 0.3358 - val_acc: 0.8844\n",
            "Epoch 13/25\n",
            "60000/60000 [==============================] - 7s 117us/step - loss: 0.2216 - acc: 0.9166 - val_loss: 0.3165 - val_acc: 0.8903\n",
            "Epoch 14/25\n",
            "60000/60000 [==============================] - 7s 116us/step - loss: 0.2146 - acc: 0.9192 - val_loss: 0.3386 - val_acc: 0.8810\n",
            "Epoch 15/25\n",
            "60000/60000 [==============================] - 7s 116us/step - loss: 0.2051 - acc: 0.9228 - val_loss: 0.3161 - val_acc: 0.8922\n",
            "Epoch 16/25\n",
            "60000/60000 [==============================] - 7s 115us/step - loss: 0.1987 - acc: 0.9247 - val_loss: 0.3152 - val_acc: 0.8926\n",
            "Epoch 17/25\n",
            "60000/60000 [==============================] - 7s 116us/step - loss: 0.1900 - acc: 0.9279 - val_loss: 0.3201 - val_acc: 0.8903\n",
            "Epoch 18/25\n",
            "60000/60000 [==============================] - 7s 116us/step - loss: 0.1831 - acc: 0.9310 - val_loss: 0.3243 - val_acc: 0.8904\n",
            "Epoch 19/25\n",
            "60000/60000 [==============================] - 7s 116us/step - loss: 0.1767 - acc: 0.9336 - val_loss: 0.3183 - val_acc: 0.8960\n",
            "Epoch 20/25\n",
            "60000/60000 [==============================] - 7s 116us/step - loss: 0.1719 - acc: 0.9352 - val_loss: 0.3263 - val_acc: 0.8909\n",
            "Epoch 21/25\n",
            "60000/60000 [==============================] - 7s 117us/step - loss: 0.1653 - acc: 0.9384 - val_loss: 0.3338 - val_acc: 0.8906\n",
            "Epoch 22/25\n",
            "60000/60000 [==============================] - 7s 117us/step - loss: 0.1576 - acc: 0.9411 - val_loss: 0.3413 - val_acc: 0.8925\n",
            "Epoch 23/25\n",
            "60000/60000 [==============================] - 7s 117us/step - loss: 0.1511 - acc: 0.9441 - val_loss: 0.3480 - val_acc: 0.8865\n",
            "Epoch 24/25\n",
            "60000/60000 [==============================] - 7s 120us/step - loss: 0.1452 - acc: 0.9461 - val_loss: 0.3394 - val_acc: 0.8944\n",
            "Epoch 25/25\n",
            "60000/60000 [==============================] - 7s 119us/step - loss: 0.1384 - acc: 0.9476 - val_loss: 0.3444 - val_acc: 0.8912\n"
          ],
          "name": "stdout"
        }
      ]
    },
    {
      "cell_type": "code",
      "metadata": {
        "id": "95diCOGfUnG9",
        "colab_type": "code",
        "colab": {}
      },
      "source": [
        "y_predict = model.predict(x_test_norm)"
      ],
      "execution_count": 0,
      "outputs": []
    },
    {
      "cell_type": "code",
      "metadata": {
        "id": "9j0zI0t0WoIw",
        "colab_type": "code",
        "outputId": "bc6b53b7-9b28-4929-aa7a-a71f28a540d1",
        "colab": {
          "base_uri": "https://localhost:8080/",
          "height": 68
        }
      },
      "source": [
        "y_predict[1]"
      ],
      "execution_count": 0,
      "outputs": [
        {
          "output_type": "execute_result",
          "data": {
            "text/plain": [
              "array([8.01130140e-04, 5.29612354e-09, 9.95902717e-01, 3.99887545e-09,\n",
              "       3.20220483e-03, 9.39551104e-10, 9.39539168e-05, 1.22719846e-11,\n",
              "       1.23012498e-08, 1.06060736e-13], dtype=float32)"
            ]
          },
          "metadata": {
            "tags": []
          },
          "execution_count": 14
        }
      ]
    },
    {
      "cell_type": "code",
      "metadata": {
        "id": "-507TgKNW5E1",
        "colab_type": "code",
        "outputId": "54c04884-d6fc-43cd-a92c-bca8ef3f8f59",
        "colab": {
          "base_uri": "https://localhost:8080/",
          "height": 51
        }
      },
      "source": [
        "y_test[20:40]"
      ],
      "execution_count": 0,
      "outputs": [
        {
          "output_type": "execute_result",
          "data": {
            "text/plain": [
              "array([2, 5, 7, 9, 1, 4, 6, 0, 9, 3, 8, 8, 3, 3, 8, 0, 7, 5, 7, 9],\n",
              "      dtype=uint8)"
            ]
          },
          "metadata": {
            "tags": []
          },
          "execution_count": 17
        }
      ]
    },
    {
      "cell_type": "code",
      "metadata": {
        "id": "gGuTb363WJrk",
        "colab_type": "code",
        "outputId": "ad9c9efb-540f-46d1-a3c0-11b95d319351",
        "colab": {
          "base_uri": "https://localhost:8080/",
          "height": 34
        }
      },
      "source": [
        "import numpy as np\n",
        "\n",
        "np.argmax(y_predict[20:40], axis=1)"
      ],
      "execution_count": 0,
      "outputs": [
        {
          "output_type": "execute_result",
          "data": {
            "text/plain": [
              "array([2, 5, 7, 5, 1, 4, 6, 0, 9, 3, 8, 8, 3, 3, 8, 0, 7, 5, 7, 9])"
            ]
          },
          "metadata": {
            "tags": []
          },
          "execution_count": 18
        }
      ]
    },
    {
      "cell_type": "code",
      "metadata": {
        "id": "xniMD1HydKHS",
        "colab_type": "code",
        "colab": {}
      },
      "source": [
        "def nn_test(y_predict, y_test):\n",
        "  count = 0\n",
        "  for i in range(len(y_test)):\n",
        "    if y_test[i] == np.argmax(y_predict[i]): count+=1\n",
        "  return count/len(y_test)"
      ],
      "execution_count": 0,
      "outputs": []
    },
    {
      "cell_type": "code",
      "metadata": {
        "id": "CcmNgStCeXwM",
        "colab_type": "code",
        "outputId": "c2d05cfa-2ee7-4a8a-f399-29eb5f946e21",
        "colab": {
          "base_uri": "https://localhost:8080/",
          "height": 34
        }
      },
      "source": [
        "nn_test(y_predict, y_test)"
      ],
      "execution_count": 0,
      "outputs": [
        {
          "output_type": "execute_result",
          "data": {
            "text/plain": [
              "0.8923"
            ]
          },
          "metadata": {
            "tags": []
          },
          "execution_count": 20
        }
      ]
    },
    {
      "cell_type": "markdown",
      "metadata": {
        "id": "bYbHLtdtYU66",
        "colab_type": "text"
      },
      "source": [
        "НАСКОЛЬКО СИЛЬНО СЕТЬ ОШИБАЕТСЯ?????????????"
      ]
    },
    {
      "cell_type": "code",
      "metadata": {
        "id": "ry8JHjA9VUQg",
        "colab_type": "code",
        "outputId": "dcdf93ba-4df6-4c12-8462-798cc4e24c21",
        "colab": {
          "base_uri": "https://localhost:8080/",
          "height": 34
        }
      },
      "source": [
        "x_test.shape"
      ],
      "execution_count": 0,
      "outputs": [
        {
          "output_type": "execute_result",
          "data": {
            "text/plain": [
              "(10000, 28, 28)"
            ]
          },
          "metadata": {
            "tags": []
          },
          "execution_count": 35
        }
      ]
    },
    {
      "cell_type": "code",
      "metadata": {
        "id": "W5fbd4NaZWTu",
        "colab_type": "code",
        "outputId": "8abe802d-c42d-4cb7-c330-e9e75d105a0c",
        "colab": {
          "base_uri": "https://localhost:8080/",
          "height": 269
        }
      },
      "source": [
        "number_of_image = 2550\n",
        "output_image(x_test, number_of_image)"
      ],
      "execution_count": 0,
      "outputs": [
        {
          "output_type": "display_data",
          "data": {
            "image/png": "[encoded data removed]",
            "text/plain": [
              "<Figure size 432x288 with 1 Axes>"
            ]
          },
          "metadata": {
            "tags": []
          }
        }
      ]
    },
    {
      "cell_type": "code",
      "metadata": {
        "id": "hG_NghQtZfIC",
        "colab_type": "code",
        "outputId": "8f9f4366-eb9e-434b-b14f-e1ffaf916faf",
        "colab": {
          "base_uri": "https://localhost:8080/",
          "height": 34
        }
      },
      "source": [
        "y_test[number_of_image]"
      ],
      "execution_count": 0,
      "outputs": [
        {
          "output_type": "execute_result",
          "data": {
            "text/plain": [
              "9"
            ]
          },
          "metadata": {
            "tags": []
          },
          "execution_count": 34
        }
      ]
    },
    {
      "cell_type": "code",
      "metadata": {
        "id": "fP8m5j_lYUqp",
        "colab_type": "code",
        "outputId": "1ab6bf36-8b7c-4f42-8305-eb5288fd6a77",
        "colab": {
          "base_uri": "https://localhost:8080/",
          "height": 68
        }
      },
      "source": [
        "print(model.predict(x_test[number_of_image].reshape(1,784)))\n",
        "\n",
        "np.argmax(model.predict(x_test[number_of_image].reshape(1,784)))"
      ],
      "execution_count": 0,
      "outputs": [
        {
          "output_type": "stream",
          "text": [
            "[[7.9985801e-04 2.0298406e-03 1.5520788e-03 9.1310515e-04 9.4157195e-04\n",
            "  3.9689161e-02 8.3737192e-04 6.1180610e-02 5.2149384e-03 8.8684148e-01]]\n"
          ],
          "name": "stdout"
        },
        {
          "output_type": "execute_result",
          "data": {
            "text/plain": [
              "9"
            ]
          },
          "metadata": {
            "tags": []
          },
          "execution_count": 36
        }
      ]
    },
    {
      "cell_type": "code",
      "metadata": {
        "id": "jaCY_-ZChjIJ",
        "colab_type": "code",
        "outputId": "cc163461-2344-4dfd-abe9-a995b2c475ce",
        "colab": {
          "base_uri": "https://localhost:8080/",
          "height": 279
        }
      },
      "source": [
        "plt.plot(history.history['acc'], label='Train accuracy')\n",
        "plt.plot(history.history['val_acc'], label='Test accuracy')\n",
        "plt.xlabel('Epoch')\n",
        "plt.ylabel('Accuracy')\n",
        "plt.legend()\n",
        "plt.show()"
      ],
      "execution_count": 0,
      "outputs": [
        {
          "output_type": "display_data",
          "data": {
            "image/png": "[encoded data removed]",
            "text/plain": [
              "<Figure size 432x288 with 1 Axes>"
            ]
          },
          "metadata": {
            "tags": []
          }
        }
      ]
    }
  ]
}