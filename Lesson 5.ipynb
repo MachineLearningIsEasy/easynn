{
  "nbformat": 4,
  "nbformat_minor": 0,
  "metadata": {
    "colab": {
      "name": "Занятие № 5.ipynb",
      "provenance": []
    },
    "kernelspec": {
      "name": "python3",
      "display_name": "Python 3"
    }
  },
  "cells": [
    {
      "cell_type": "markdown",
      "metadata": {
        "id": "0lGaDvZxGo9H",
        "colab_type": "text"
      },
      "source": [
        "**Пример решения задачи регрессии на примере датасета Boston**"
      ]
    },
    {
      "cell_type": "code",
      "metadata": {
        "id": "j-BsDhtyEvRZ",
        "colab_type": "code",
        "colab": {}
      },
      "source": [
        "#загружаем данные\n",
        "from sklearn.datasets import load_boston\n",
        "boston = load_boston()"
      ],
      "execution_count": 0,
      "outputs": []
    },
    {
      "cell_type": "code",
      "metadata": {
        "id": "rNsc2xH3GK3p",
        "colab_type": "code",
        "outputId": "d103843c-672d-473a-b235-68daab661729",
        "colab": {
          "base_uri": "https://localhost:8080/",
          "height": 34
        }
      },
      "source": [
        "type(boston)"
      ],
      "execution_count": 0,
      "outputs": [
        {
          "output_type": "execute_result",
          "data": {
            "text/plain": [
              "sklearn.utils.Bunch"
            ]
          },
          "metadata": {
            "tags": []
          },
          "execution_count": 7
        }
      ]
    },
    {
      "cell_type": "code",
      "metadata": {
        "id": "89cm6JjsF8Kn",
        "colab_type": "code",
        "outputId": "d1fce1f2-e44b-4c6d-e9b2-c41fe119bab5",
        "colab": {
          "base_uri": "https://localhost:8080/",
          "height": 34
        }
      },
      "source": [
        "dir(boston)"
      ],
      "execution_count": 0,
      "outputs": [
        {
          "output_type": "execute_result",
          "data": {
            "text/plain": [
              "['DESCR', 'data', 'feature_names', 'filename', 'target']"
            ]
          },
          "metadata": {
            "tags": []
          },
          "execution_count": 8
        }
      ]
    },
    {
      "cell_type": "code",
      "metadata": {
        "id": "CpzPYP4XGV1X",
        "colab_type": "code",
        "outputId": "40b9d59e-5c49-407c-f029-d57fce64cc8a",
        "colab": {
          "base_uri": "https://localhost:8080/",
          "height": 34
        }
      },
      "source": [
        "print(boston.filename)"
      ],
      "execution_count": 0,
      "outputs": [
        {
          "output_type": "stream",
          "text": [
            "/usr/local/lib/python3.6/dist-packages/sklearn/datasets/data/boston_house_prices.csv\n"
          ],
          "name": "stdout"
        }
      ]
    },
    {
      "cell_type": "code",
      "metadata": {
        "id": "sCg70OELIr3K",
        "colab_type": "code",
        "outputId": "8897f7e1-e1be-4c47-acd9-4711f5e21830",
        "colab": {
          "base_uri": "https://localhost:8080/",
          "height": 904
        }
      },
      "source": [
        "#инфрмация о данных\n",
        "print(boston.DESCR)"
      ],
      "execution_count": 0,
      "outputs": [
        {
          "output_type": "stream",
          "text": [
            ".. _boston_dataset:\n",
            "\n",
            "Boston house prices dataset\n",
            "---------------------------\n",
            "\n",
            "**Data Set Characteristics:**  \n",
            "\n",
            "    :Number of Instances: 506 \n",
            "\n",
            "    :Number of Attributes: 13 numeric/categorical predictive. Median Value (attribute 14) is usually the target.\n",
            "\n",
            "    :Attribute Information (in order):\n",
            "        - CRIM     per capita crime rate by town\n",
            "        - ZN       proportion of residential land zoned for lots over 25,000 sq.ft.\n",
            "        - INDUS    proportion of non-retail business acres per town\n",
            "        - CHAS     Charles River dummy variable (= 1 if tract bounds river; 0 otherwise)\n",
            "        - NOX      nitric oxides concentration (parts per 10 million)\n",
            "        - RM       average number of rooms per dwelling\n",
            "        - AGE      proportion of owner-occupied units built prior to 1940\n",
            "        - DIS      weighted distances to five Boston employment centres\n",
            "        - RAD      index of accessibility to radial highways\n",
            "        - TAX      full-value property-tax rate per $10,000\n",
            "        - PTRATIO  pupil-teacher ratio by town\n",
            "        - B        1000(Bk - 0.63)^2 where Bk is the proportion of blacks by town\n",
            "        - LSTAT    % lower status of the population\n",
            "        - MEDV     Median value of owner-occupied homes in $1000's\n",
            "\n",
            "    :Missing Attribute Values: None\n",
            "\n",
            "    :Creator: Harrison, D. and Rubinfeld, D.L.\n",
            "\n",
            "This is a copy of UCI ML housing dataset.\n",
            "https://archive.ics.uci.edu/ml/machine-learning-databases/housing/\n",
            "\n",
            "\n",
            "This dataset was taken from the StatLib library which is maintained at Carnegie Mellon University.\n",
            "\n",
            "The Boston house-price data of Harrison, D. and Rubinfeld, D.L. 'Hedonic\n",
            "prices and the demand for clean air', J. Environ. Economics & Management,\n",
            "vol.5, 81-102, 1978.   Used in Belsley, Kuh & Welsch, 'Regression diagnostics\n",
            "...', Wiley, 1980.   N.B. Various transformations are used in the table on\n",
            "pages 244-261 of the latter.\n",
            "\n",
            "The Boston house-price data has been used in many machine learning papers that address regression\n",
            "problems.   \n",
            "     \n",
            ".. topic:: References\n",
            "\n",
            "   - Belsley, Kuh & Welsch, 'Regression diagnostics: Identifying Influential Data and Sources of Collinearity', Wiley, 1980. 244-261.\n",
            "   - Quinlan,R. (1993). Combining Instance-Based and Model-Based Learning. In Proceedings on the Tenth International Conference of Machine Learning, 236-243, University of Massachusetts, Amherst. Morgan Kaufmann.\n",
            "\n"
          ],
          "name": "stdout"
        }
      ]
    },
    {
      "cell_type": "code",
      "metadata": {
        "id": "mPCLBFYlArNu",
        "colab_type": "code",
        "outputId": "11e37b2b-ca12-4382-a9e3-7c4ea35bbf71",
        "colab": {
          "base_uri": "https://localhost:8080/",
          "height": 51
        }
      },
      "source": [
        "# названия фитчей\n",
        "print(boston.feature_names)"
      ],
      "execution_count": 0,
      "outputs": [
        {
          "output_type": "stream",
          "text": [
            "['CRIM' 'ZN' 'INDUS' 'CHAS' 'NOX' 'RM' 'AGE' 'DIS' 'RAD' 'TAX' 'PTRATIO'\n",
            " 'B' 'LSTAT']\n"
          ],
          "name": "stdout"
        }
      ]
    },
    {
      "cell_type": "code",
      "metadata": {
        "id": "F73eiVlWF3B8",
        "colab_type": "code",
        "colab": {}
      },
      "source": [
        "import pandas as pd\n",
        "import numpy as np\n",
        "names = list(boston.feature_names)\n",
        "names.append('MEDV')\n",
        "data = pd.DataFrame(data=np.c_[boston.data, boston.target], columns=names )"
      ],
      "execution_count": 0,
      "outputs": []
    },
    {
      "cell_type": "code",
      "metadata": {
        "id": "6WX06-dYHhHb",
        "colab_type": "code",
        "outputId": "7b1e41b1-0128-4d4a-f7c5-4f81c7a17cac",
        "colab": {
          "base_uri": "https://localhost:8080/",
          "height": 359
        }
      },
      "source": [
        "#вид данных\n",
        "data.head(10)"
      ],
      "execution_count": 0,
      "outputs": [
        {
          "output_type": "execute_result",
          "data": {
            "text/html": [
              "<div>\n",
              "<style scoped>\n",
              "    .dataframe tbody tr th:only-of-type {\n",
              "        vertical-align: middle;\n",
              "    }\n",
              "\n",
              "    .dataframe tbody tr th {\n",
              "        vertical-align: top;\n",
              "    }\n",
              "\n",
              "    .dataframe thead th {\n",
              "        text-align: right;\n",
              "    }\n",
              "</style>\n",
              "<table border=\"1\" class=\"dataframe\">\n",
              "  <thead>\n",
              "    <tr style=\"text-align: right;\">\n",
              "      <th></th>\n",
              "      <th>CRIM</th>\n",
              "      <th>ZN</th>\n",
              "      <th>INDUS</th>\n",
              "      <th>CHAS</th>\n",
              "      <th>NOX</th>\n",
              "      <th>RM</th>\n",
              "      <th>AGE</th>\n",
              "      <th>DIS</th>\n",
              "      <th>RAD</th>\n",
              "      <th>TAX</th>\n",
              "      <th>PTRATIO</th>\n",
              "      <th>B</th>\n",
              "      <th>LSTAT</th>\n",
              "      <th>MEDV</th>\n",
              "    </tr>\n",
              "  </thead>\n",
              "  <tbody>\n",
              "    <tr>\n",
              "      <th>0</th>\n",
              "      <td>0.00632</td>\n",
              "      <td>18.0</td>\n",
              "      <td>2.31</td>\n",
              "      <td>0.0</td>\n",
              "      <td>0.538</td>\n",
              "      <td>6.575</td>\n",
              "      <td>65.2</td>\n",
              "      <td>4.0900</td>\n",
              "      <td>1.0</td>\n",
              "      <td>296.0</td>\n",
              "      <td>15.3</td>\n",
              "      <td>396.90</td>\n",
              "      <td>4.98</td>\n",
              "      <td>24.0</td>\n",
              "    </tr>\n",
              "    <tr>\n",
              "      <th>1</th>\n",
              "      <td>0.02731</td>\n",
              "      <td>0.0</td>\n",
              "      <td>7.07</td>\n",
              "      <td>0.0</td>\n",
              "      <td>0.469</td>\n",
              "      <td>6.421</td>\n",
              "      <td>78.9</td>\n",
              "      <td>4.9671</td>\n",
              "      <td>2.0</td>\n",
              "      <td>242.0</td>\n",
              "      <td>17.8</td>\n",
              "      <td>396.90</td>\n",
              "      <td>9.14</td>\n",
              "      <td>21.6</td>\n",
              "    </tr>\n",
              "    <tr>\n",
              "      <th>2</th>\n",
              "      <td>0.02729</td>\n",
              "      <td>0.0</td>\n",
              "      <td>7.07</td>\n",
              "      <td>0.0</td>\n",
              "      <td>0.469</td>\n",
              "      <td>7.185</td>\n",
              "      <td>61.1</td>\n",
              "      <td>4.9671</td>\n",
              "      <td>2.0</td>\n",
              "      <td>242.0</td>\n",
              "      <td>17.8</td>\n",
              "      <td>392.83</td>\n",
              "      <td>4.03</td>\n",
              "      <td>34.7</td>\n",
              "    </tr>\n",
              "    <tr>\n",
              "      <th>3</th>\n",
              "      <td>0.03237</td>\n",
              "      <td>0.0</td>\n",
              "      <td>2.18</td>\n",
              "      <td>0.0</td>\n",
              "      <td>0.458</td>\n",
              "      <td>6.998</td>\n",
              "      <td>45.8</td>\n",
              "      <td>6.0622</td>\n",
              "      <td>3.0</td>\n",
              "      <td>222.0</td>\n",
              "      <td>18.7</td>\n",
              "      <td>394.63</td>\n",
              "      <td>2.94</td>\n",
              "      <td>33.4</td>\n",
              "    </tr>\n",
              "    <tr>\n",
              "      <th>4</th>\n",
              "      <td>0.06905</td>\n",
              "      <td>0.0</td>\n",
              "      <td>2.18</td>\n",
              "      <td>0.0</td>\n",
              "      <td>0.458</td>\n",
              "      <td>7.147</td>\n",
              "      <td>54.2</td>\n",
              "      <td>6.0622</td>\n",
              "      <td>3.0</td>\n",
              "      <td>222.0</td>\n",
              "      <td>18.7</td>\n",
              "      <td>396.90</td>\n",
              "      <td>5.33</td>\n",
              "      <td>36.2</td>\n",
              "    </tr>\n",
              "    <tr>\n",
              "      <th>5</th>\n",
              "      <td>0.02985</td>\n",
              "      <td>0.0</td>\n",
              "      <td>2.18</td>\n",
              "      <td>0.0</td>\n",
              "      <td>0.458</td>\n",
              "      <td>6.430</td>\n",
              "      <td>58.7</td>\n",
              "      <td>6.0622</td>\n",
              "      <td>3.0</td>\n",
              "      <td>222.0</td>\n",
              "      <td>18.7</td>\n",
              "      <td>394.12</td>\n",
              "      <td>5.21</td>\n",
              "      <td>28.7</td>\n",
              "    </tr>\n",
              "    <tr>\n",
              "      <th>6</th>\n",
              "      <td>0.08829</td>\n",
              "      <td>12.5</td>\n",
              "      <td>7.87</td>\n",
              "      <td>0.0</td>\n",
              "      <td>0.524</td>\n",
              "      <td>6.012</td>\n",
              "      <td>66.6</td>\n",
              "      <td>5.5605</td>\n",
              "      <td>5.0</td>\n",
              "      <td>311.0</td>\n",
              "      <td>15.2</td>\n",
              "      <td>395.60</td>\n",
              "      <td>12.43</td>\n",
              "      <td>22.9</td>\n",
              "    </tr>\n",
              "    <tr>\n",
              "      <th>7</th>\n",
              "      <td>0.14455</td>\n",
              "      <td>12.5</td>\n",
              "      <td>7.87</td>\n",
              "      <td>0.0</td>\n",
              "      <td>0.524</td>\n",
              "      <td>6.172</td>\n",
              "      <td>96.1</td>\n",
              "      <td>5.9505</td>\n",
              "      <td>5.0</td>\n",
              "      <td>311.0</td>\n",
              "      <td>15.2</td>\n",
              "      <td>396.90</td>\n",
              "      <td>19.15</td>\n",
              "      <td>27.1</td>\n",
              "    </tr>\n",
              "    <tr>\n",
              "      <th>8</th>\n",
              "      <td>0.21124</td>\n",
              "      <td>12.5</td>\n",
              "      <td>7.87</td>\n",
              "      <td>0.0</td>\n",
              "      <td>0.524</td>\n",
              "      <td>5.631</td>\n",
              "      <td>100.0</td>\n",
              "      <td>6.0821</td>\n",
              "      <td>5.0</td>\n",
              "      <td>311.0</td>\n",
              "      <td>15.2</td>\n",
              "      <td>386.63</td>\n",
              "      <td>29.93</td>\n",
              "      <td>16.5</td>\n",
              "    </tr>\n",
              "    <tr>\n",
              "      <th>9</th>\n",
              "      <td>0.17004</td>\n",
              "      <td>12.5</td>\n",
              "      <td>7.87</td>\n",
              "      <td>0.0</td>\n",
              "      <td>0.524</td>\n",
              "      <td>6.004</td>\n",
              "      <td>85.9</td>\n",
              "      <td>6.5921</td>\n",
              "      <td>5.0</td>\n",
              "      <td>311.0</td>\n",
              "      <td>15.2</td>\n",
              "      <td>386.71</td>\n",
              "      <td>17.10</td>\n",
              "      <td>18.9</td>\n",
              "    </tr>\n",
              "  </tbody>\n",
              "</table>\n",
              "</div>"
            ],
            "text/plain": [
              "      CRIM    ZN  INDUS  CHAS    NOX  ...    TAX  PTRATIO       B  LSTAT  MEDV\n",
              "0  0.00632  18.0   2.31   0.0  0.538  ...  296.0     15.3  396.90   4.98  24.0\n",
              "1  0.02731   0.0   7.07   0.0  0.469  ...  242.0     17.8  396.90   9.14  21.6\n",
              "2  0.02729   0.0   7.07   0.0  0.469  ...  242.0     17.8  392.83   4.03  34.7\n",
              "3  0.03237   0.0   2.18   0.0  0.458  ...  222.0     18.7  394.63   2.94  33.4\n",
              "4  0.06905   0.0   2.18   0.0  0.458  ...  222.0     18.7  396.90   5.33  36.2\n",
              "5  0.02985   0.0   2.18   0.0  0.458  ...  222.0     18.7  394.12   5.21  28.7\n",
              "6  0.08829  12.5   7.87   0.0  0.524  ...  311.0     15.2  395.60  12.43  22.9\n",
              "7  0.14455  12.5   7.87   0.0  0.524  ...  311.0     15.2  396.90  19.15  27.1\n",
              "8  0.21124  12.5   7.87   0.0  0.524  ...  311.0     15.2  386.63  29.93  16.5\n",
              "9  0.17004  12.5   7.87   0.0  0.524  ...  311.0     15.2  386.71  17.10  18.9\n",
              "\n",
              "[10 rows x 14 columns]"
            ]
          },
          "metadata": {
            "tags": []
          },
          "execution_count": 13
        }
      ]
    },
    {
      "cell_type": "code",
      "metadata": {
        "id": "tkNsylp_BGqC",
        "colab_type": "code",
        "outputId": "fcc991a7-bd26-4972-ab56-41292510abd0",
        "colab": {
          "base_uri": "https://localhost:8080/",
          "height": 340
        }
      },
      "source": [
        "data.info()"
      ],
      "execution_count": 0,
      "outputs": [
        {
          "output_type": "stream",
          "text": [
            "<class 'pandas.core.frame.DataFrame'>\n",
            "RangeIndex: 506 entries, 0 to 505\n",
            "Data columns (total 14 columns):\n",
            "CRIM       506 non-null float64\n",
            "ZN         506 non-null float64\n",
            "INDUS      506 non-null float64\n",
            "CHAS       506 non-null float64\n",
            "NOX        506 non-null float64\n",
            "RM         506 non-null float64\n",
            "AGE        506 non-null float64\n",
            "DIS        506 non-null float64\n",
            "RAD        506 non-null float64\n",
            "TAX        506 non-null float64\n",
            "PTRATIO    506 non-null float64\n",
            "B          506 non-null float64\n",
            "LSTAT      506 non-null float64\n",
            "MEDV       506 non-null float64\n",
            "dtypes: float64(14)\n",
            "memory usage: 55.5 KB\n"
          ],
          "name": "stdout"
        }
      ]
    },
    {
      "cell_type": "code",
      "metadata": {
        "id": "xtybEVxwHi2Z",
        "colab_type": "code",
        "colab": {}
      },
      "source": [
        "# Делим данные на данные для обучения и для тестирования\n",
        "y = data['MEDV']\n",
        "del data['MEDV']\n",
        "\n",
        "from sklearn.model_selection import train_test_split\n",
        "X_train, X_test, y_train, y_test = train_test_split(data, y, test_size=0.25, random_state=42)"
      ],
      "execution_count": 0,
      "outputs": []
    },
    {
      "cell_type": "code",
      "metadata": {
        "id": "s9mMCd-VH7p4",
        "colab_type": "code",
        "outputId": "8bfbe195-2bc8-4dd2-f16f-091c36b14537",
        "colab": {
          "base_uri": "https://localhost:8080/",
          "height": 419
        }
      },
      "source": [
        "X_train"
      ],
      "execution_count": 0,
      "outputs": [
        {
          "output_type": "execute_result",
          "data": {
            "text/html": [
              "<div>\n",
              "<style scoped>\n",
              "    .dataframe tbody tr th:only-of-type {\n",
              "        vertical-align: middle;\n",
              "    }\n",
              "\n",
              "    .dataframe tbody tr th {\n",
              "        vertical-align: top;\n",
              "    }\n",
              "\n",
              "    .dataframe thead th {\n",
              "        text-align: right;\n",
              "    }\n",
              "</style>\n",
              "<table border=\"1\" class=\"dataframe\">\n",
              "  <thead>\n",
              "    <tr style=\"text-align: right;\">\n",
              "      <th></th>\n",
              "      <th>CRIM</th>\n",
              "      <th>ZN</th>\n",
              "      <th>INDUS</th>\n",
              "      <th>CHAS</th>\n",
              "      <th>NOX</th>\n",
              "      <th>RM</th>\n",
              "      <th>AGE</th>\n",
              "      <th>DIS</th>\n",
              "      <th>RAD</th>\n",
              "      <th>TAX</th>\n",
              "      <th>PTRATIO</th>\n",
              "      <th>B</th>\n",
              "      <th>LSTAT</th>\n",
              "    </tr>\n",
              "  </thead>\n",
              "  <tbody>\n",
              "    <tr>\n",
              "      <th>182</th>\n",
              "      <td>0.09103</td>\n",
              "      <td>0.0</td>\n",
              "      <td>2.46</td>\n",
              "      <td>0.0</td>\n",
              "      <td>0.4880</td>\n",
              "      <td>7.155</td>\n",
              "      <td>92.2</td>\n",
              "      <td>2.7006</td>\n",
              "      <td>3.0</td>\n",
              "      <td>193.0</td>\n",
              "      <td>17.8</td>\n",
              "      <td>394.12</td>\n",
              "      <td>4.82</td>\n",
              "    </tr>\n",
              "    <tr>\n",
              "      <th>155</th>\n",
              "      <td>3.53501</td>\n",
              "      <td>0.0</td>\n",
              "      <td>19.58</td>\n",
              "      <td>1.0</td>\n",
              "      <td>0.8710</td>\n",
              "      <td>6.152</td>\n",
              "      <td>82.6</td>\n",
              "      <td>1.7455</td>\n",
              "      <td>5.0</td>\n",
              "      <td>403.0</td>\n",
              "      <td>14.7</td>\n",
              "      <td>88.01</td>\n",
              "      <td>15.02</td>\n",
              "    </tr>\n",
              "    <tr>\n",
              "      <th>280</th>\n",
              "      <td>0.03578</td>\n",
              "      <td>20.0</td>\n",
              "      <td>3.33</td>\n",
              "      <td>0.0</td>\n",
              "      <td>0.4429</td>\n",
              "      <td>7.820</td>\n",
              "      <td>64.5</td>\n",
              "      <td>4.6947</td>\n",
              "      <td>5.0</td>\n",
              "      <td>216.0</td>\n",
              "      <td>14.9</td>\n",
              "      <td>387.31</td>\n",
              "      <td>3.76</td>\n",
              "    </tr>\n",
              "    <tr>\n",
              "      <th>126</th>\n",
              "      <td>0.38735</td>\n",
              "      <td>0.0</td>\n",
              "      <td>25.65</td>\n",
              "      <td>0.0</td>\n",
              "      <td>0.5810</td>\n",
              "      <td>5.613</td>\n",
              "      <td>95.6</td>\n",
              "      <td>1.7572</td>\n",
              "      <td>2.0</td>\n",
              "      <td>188.0</td>\n",
              "      <td>19.1</td>\n",
              "      <td>359.29</td>\n",
              "      <td>27.26</td>\n",
              "    </tr>\n",
              "    <tr>\n",
              "      <th>329</th>\n",
              "      <td>0.06724</td>\n",
              "      <td>0.0</td>\n",
              "      <td>3.24</td>\n",
              "      <td>0.0</td>\n",
              "      <td>0.4600</td>\n",
              "      <td>6.333</td>\n",
              "      <td>17.2</td>\n",
              "      <td>5.2146</td>\n",
              "      <td>4.0</td>\n",
              "      <td>430.0</td>\n",
              "      <td>16.9</td>\n",
              "      <td>375.21</td>\n",
              "      <td>7.34</td>\n",
              "    </tr>\n",
              "    <tr>\n",
              "      <th>...</th>\n",
              "      <td>...</td>\n",
              "      <td>...</td>\n",
              "      <td>...</td>\n",
              "      <td>...</td>\n",
              "      <td>...</td>\n",
              "      <td>...</td>\n",
              "      <td>...</td>\n",
              "      <td>...</td>\n",
              "      <td>...</td>\n",
              "      <td>...</td>\n",
              "      <td>...</td>\n",
              "      <td>...</td>\n",
              "      <td>...</td>\n",
              "    </tr>\n",
              "    <tr>\n",
              "      <th>106</th>\n",
              "      <td>0.17120</td>\n",
              "      <td>0.0</td>\n",
              "      <td>8.56</td>\n",
              "      <td>0.0</td>\n",
              "      <td>0.5200</td>\n",
              "      <td>5.836</td>\n",
              "      <td>91.9</td>\n",
              "      <td>2.2110</td>\n",
              "      <td>5.0</td>\n",
              "      <td>384.0</td>\n",
              "      <td>20.9</td>\n",
              "      <td>395.67</td>\n",
              "      <td>18.66</td>\n",
              "    </tr>\n",
              "    <tr>\n",
              "      <th>270</th>\n",
              "      <td>0.29916</td>\n",
              "      <td>20.0</td>\n",
              "      <td>6.96</td>\n",
              "      <td>0.0</td>\n",
              "      <td>0.4640</td>\n",
              "      <td>5.856</td>\n",
              "      <td>42.1</td>\n",
              "      <td>4.4290</td>\n",
              "      <td>3.0</td>\n",
              "      <td>223.0</td>\n",
              "      <td>18.6</td>\n",
              "      <td>388.65</td>\n",
              "      <td>13.00</td>\n",
              "    </tr>\n",
              "    <tr>\n",
              "      <th>348</th>\n",
              "      <td>0.01501</td>\n",
              "      <td>80.0</td>\n",
              "      <td>2.01</td>\n",
              "      <td>0.0</td>\n",
              "      <td>0.4350</td>\n",
              "      <td>6.635</td>\n",
              "      <td>29.7</td>\n",
              "      <td>8.3440</td>\n",
              "      <td>4.0</td>\n",
              "      <td>280.0</td>\n",
              "      <td>17.0</td>\n",
              "      <td>390.94</td>\n",
              "      <td>5.99</td>\n",
              "    </tr>\n",
              "    <tr>\n",
              "      <th>435</th>\n",
              "      <td>11.16040</td>\n",
              "      <td>0.0</td>\n",
              "      <td>18.10</td>\n",
              "      <td>0.0</td>\n",
              "      <td>0.7400</td>\n",
              "      <td>6.629</td>\n",
              "      <td>94.6</td>\n",
              "      <td>2.1247</td>\n",
              "      <td>24.0</td>\n",
              "      <td>666.0</td>\n",
              "      <td>20.2</td>\n",
              "      <td>109.85</td>\n",
              "      <td>23.27</td>\n",
              "    </tr>\n",
              "    <tr>\n",
              "      <th>102</th>\n",
              "      <td>0.22876</td>\n",
              "      <td>0.0</td>\n",
              "      <td>8.56</td>\n",
              "      <td>0.0</td>\n",
              "      <td>0.5200</td>\n",
              "      <td>6.405</td>\n",
              "      <td>85.4</td>\n",
              "      <td>2.7147</td>\n",
              "      <td>5.0</td>\n",
              "      <td>384.0</td>\n",
              "      <td>20.9</td>\n",
              "      <td>70.80</td>\n",
              "      <td>10.63</td>\n",
              "    </tr>\n",
              "  </tbody>\n",
              "</table>\n",
              "<p>379 rows × 13 columns</p>\n",
              "</div>"
            ],
            "text/plain": [
              "         CRIM    ZN  INDUS  CHAS     NOX  ...   RAD    TAX  PTRATIO       B  LSTAT\n",
              "182   0.09103   0.0   2.46   0.0  0.4880  ...   3.0  193.0     17.8  394.12   4.82\n",
              "155   3.53501   0.0  19.58   1.0  0.8710  ...   5.0  403.0     14.7   88.01  15.02\n",
              "280   0.03578  20.0   3.33   0.0  0.4429  ...   5.0  216.0     14.9  387.31   3.76\n",
              "126   0.38735   0.0  25.65   0.0  0.5810  ...   2.0  188.0     19.1  359.29  27.26\n",
              "329   0.06724   0.0   3.24   0.0  0.4600  ...   4.0  430.0     16.9  375.21   7.34\n",
              "..        ...   ...    ...   ...     ...  ...   ...    ...      ...     ...    ...\n",
              "106   0.17120   0.0   8.56   0.0  0.5200  ...   5.0  384.0     20.9  395.67  18.66\n",
              "270   0.29916  20.0   6.96   0.0  0.4640  ...   3.0  223.0     18.6  388.65  13.00\n",
              "348   0.01501  80.0   2.01   0.0  0.4350  ...   4.0  280.0     17.0  390.94   5.99\n",
              "435  11.16040   0.0  18.10   0.0  0.7400  ...  24.0  666.0     20.2  109.85  23.27\n",
              "102   0.22876   0.0   8.56   0.0  0.5200  ...   5.0  384.0     20.9   70.80  10.63\n",
              "\n",
              "[379 rows x 13 columns]"
            ]
          },
          "metadata": {
            "tags": []
          },
          "execution_count": 16
        }
      ]
    },
    {
      "cell_type": "code",
      "metadata": {
        "id": "gGRRSkXBJhUD",
        "colab_type": "code",
        "outputId": "c589261a-3960-4445-aee1-3e502b7e0954",
        "colab": {
          "base_uri": "https://localhost:8080/",
          "height": 238
        }
      },
      "source": [
        "# Нормировка данных\n",
        "# Выведем значения средних арифметических и отклонений по столбцам\n",
        "column_names = list(X_train.columns.values)\n",
        "for name in column_names:\n",
        "  print(f'{name}: {X_train[name].mean()}, {X_train[name].std()}')\n"
      ],
      "execution_count": 0,
      "outputs": [
        {
          "output_type": "stream",
          "text": [
            "CRIM: 3.468654749340372, 8.313982764963791\n",
            "ZN: 11.596306068601583, 23.093394164644643\n",
            "INDUS: 11.1199736147757, 6.953400808491823\n",
            "CHAS: 0.07651715039577836, 0.26617515535718916\n",
            "NOX: 0.5583263852242749, 0.11911783632860289\n",
            "RM: 6.32349604221636, 0.7200860889597821\n",
            "AGE: 69.1472295514512, 27.703148856944473\n",
            "DIS: 3.763439841688657, 2.112633036998358\n",
            "RAD: 9.361477572559366, 8.601322276310226\n",
            "TAX: 405.311345646438, 166.060463116957\n",
            "PTRATIO: 18.263852242744015, 2.263954245268855\n",
            "B: 358.76712401055346, 87.51186715542953\n",
            "LSTAT: 12.5132981530343, 7.147689895304706\n"
          ],
          "name": "stdout"
        }
      ]
    },
    {
      "cell_type": "code",
      "metadata": {
        "id": "M2gH41pIK_JX",
        "colab_type": "code",
        "outputId": "2716c82a-54df-4282-f91d-848543b3a0d6",
        "colab": {
          "base_uri": "https://localhost:8080/",
          "height": 241
        }
      },
      "source": [
        "# От каждого значения отнимается среднее арифметическое и делится на стандартное отклонение всех значений признака\n",
        "for name in column_names:\n",
        "  mean = X_train[name].mean()\n",
        "  std = X_train[name].std()\n",
        "  X_train[name] = (X_train[name] - mean)/ std\n",
        "  X_test[name] = (X_test[name] - mean)/ std"
      ],
      "execution_count": 0,
      "outputs": [
        {
          "output_type": "stream",
          "text": [
            "/usr/local/lib/python3.6/dist-packages/ipykernel_launcher.py:4: SettingWithCopyWarning: \n",
            "A value is trying to be set on a copy of a slice from a DataFrame.\n",
            "Try using .loc[row_indexer,col_indexer] = value instead\n",
            "\n",
            "See the caveats in the documentation: http://pandas.pydata.org/pandas-docs/stable/user_guide/indexing.html#returning-a-view-versus-a-copy\n",
            "  after removing the cwd from sys.path.\n",
            "/usr/local/lib/python3.6/dist-packages/ipykernel_launcher.py:5: SettingWithCopyWarning: \n",
            "A value is trying to be set on a copy of a slice from a DataFrame.\n",
            "Try using .loc[row_indexer,col_indexer] = value instead\n",
            "\n",
            "See the caveats in the documentation: http://pandas.pydata.org/pandas-docs/stable/user_guide/indexing.html#returning-a-view-versus-a-copy\n",
            "  \"\"\"\n"
          ],
          "name": "stderr"
        }
      ]
    },
    {
      "cell_type": "code",
      "metadata": {
        "id": "gsTrIoNNLPJA",
        "colab_type": "code",
        "outputId": "0f805bc2-faa8-4457-b5f8-9e34e8f17c40",
        "colab": {
          "base_uri": "https://localhost:8080/",
          "height": 439
        }
      },
      "source": [
        "# данные после нормировки\n",
        "X_train"
      ],
      "execution_count": 0,
      "outputs": [
        {
          "output_type": "execute_result",
          "data": {
            "text/html": [
              "<div>\n",
              "<style scoped>\n",
              "    .dataframe tbody tr th:only-of-type {\n",
              "        vertical-align: middle;\n",
              "    }\n",
              "\n",
              "    .dataframe tbody tr th {\n",
              "        vertical-align: top;\n",
              "    }\n",
              "\n",
              "    .dataframe thead th {\n",
              "        text-align: right;\n",
              "    }\n",
              "</style>\n",
              "<table border=\"1\" class=\"dataframe\">\n",
              "  <thead>\n",
              "    <tr style=\"text-align: right;\">\n",
              "      <th></th>\n",
              "      <th>CRIM</th>\n",
              "      <th>ZN</th>\n",
              "      <th>INDUS</th>\n",
              "      <th>CHAS</th>\n",
              "      <th>NOX</th>\n",
              "      <th>RM</th>\n",
              "      <th>AGE</th>\n",
              "      <th>DIS</th>\n",
              "      <th>RAD</th>\n",
              "      <th>TAX</th>\n",
              "      <th>PTRATIO</th>\n",
              "      <th>B</th>\n",
              "      <th>LSTAT</th>\n",
              "    </tr>\n",
              "  </thead>\n",
              "  <tbody>\n",
              "    <tr>\n",
              "      <th>182</th>\n",
              "      <td>-0.406258</td>\n",
              "      <td>-0.502148</td>\n",
              "      <td>-1.245430</td>\n",
              "      <td>-0.287469</td>\n",
              "      <td>-0.590393</td>\n",
              "      <td>1.154729</td>\n",
              "      <td>0.832135</td>\n",
              "      <td>-0.503088</td>\n",
              "      <td>-0.739593</td>\n",
              "      <td>-1.278518</td>\n",
              "      <td>-0.204886</td>\n",
              "      <td>0.403978</td>\n",
              "      <td>-1.076334</td>\n",
              "    </tr>\n",
              "    <tr>\n",
              "      <th>155</th>\n",
              "      <td>0.007981</td>\n",
              "      <td>-0.502148</td>\n",
              "      <td>1.216675</td>\n",
              "      <td>3.469455</td>\n",
              "      <td>2.624910</td>\n",
              "      <td>-0.238160</td>\n",
              "      <td>0.485604</td>\n",
              "      <td>-0.955178</td>\n",
              "      <td>-0.507071</td>\n",
              "      <td>-0.013919</td>\n",
              "      <td>-1.574171</td>\n",
              "      <td>-3.093948</td>\n",
              "      <td>0.350701</td>\n",
              "    </tr>\n",
              "    <tr>\n",
              "      <th>280</th>\n",
              "      <td>-0.412904</td>\n",
              "      <td>0.363900</td>\n",
              "      <td>-1.120311</td>\n",
              "      <td>-0.287469</td>\n",
              "      <td>-0.969010</td>\n",
              "      <td>2.078229</td>\n",
              "      <td>-0.167751</td>\n",
              "      <td>0.440805</td>\n",
              "      <td>-0.507071</td>\n",
              "      <td>-1.140015</td>\n",
              "      <td>-1.485830</td>\n",
              "      <td>0.326160</td>\n",
              "      <td>-1.224633</td>\n",
              "    </tr>\n",
              "    <tr>\n",
              "      <th>126</th>\n",
              "      <td>-0.370617</td>\n",
              "      <td>-0.502148</td>\n",
              "      <td>2.089629</td>\n",
              "      <td>-0.287469</td>\n",
              "      <td>0.190346</td>\n",
              "      <td>-0.986682</td>\n",
              "      <td>0.954865</td>\n",
              "      <td>-0.949640</td>\n",
              "      <td>-0.855854</td>\n",
              "      <td>-1.308628</td>\n",
              "      <td>0.369331</td>\n",
              "      <td>0.005975</td>\n",
              "      <td>2.063142</td>\n",
              "    </tr>\n",
              "    <tr>\n",
              "      <th>329</th>\n",
              "      <td>-0.409120</td>\n",
              "      <td>-0.502148</td>\n",
              "      <td>-1.133255</td>\n",
              "      <td>-0.287469</td>\n",
              "      <td>-0.825455</td>\n",
              "      <td>0.013198</td>\n",
              "      <td>-1.875138</td>\n",
              "      <td>0.686896</td>\n",
              "      <td>-0.623332</td>\n",
              "      <td>0.148673</td>\n",
              "      <td>-0.602420</td>\n",
              "      <td>0.187893</td>\n",
              "      <td>-0.723772</td>\n",
              "    </tr>\n",
              "    <tr>\n",
              "      <th>...</th>\n",
              "      <td>...</td>\n",
              "      <td>...</td>\n",
              "      <td>...</td>\n",
              "      <td>...</td>\n",
              "      <td>...</td>\n",
              "      <td>...</td>\n",
              "      <td>...</td>\n",
              "      <td>...</td>\n",
              "      <td>...</td>\n",
              "      <td>...</td>\n",
              "      <td>...</td>\n",
              "      <td>...</td>\n",
              "      <td>...</td>\n",
              "    </tr>\n",
              "    <tr>\n",
              "      <th>106</th>\n",
              "      <td>-0.396616</td>\n",
              "      <td>-0.502148</td>\n",
              "      <td>-0.368161</td>\n",
              "      <td>-0.287469</td>\n",
              "      <td>-0.321752</td>\n",
              "      <td>-0.676997</td>\n",
              "      <td>0.821306</td>\n",
              "      <td>-0.734836</td>\n",
              "      <td>-0.507071</td>\n",
              "      <td>-0.128335</td>\n",
              "      <td>1.164400</td>\n",
              "      <td>0.421690</td>\n",
              "      <td>0.859956</td>\n",
              "    </tr>\n",
              "    <tr>\n",
              "      <th>270</th>\n",
              "      <td>-0.381225</td>\n",
              "      <td>0.363900</td>\n",
              "      <td>-0.598265</td>\n",
              "      <td>-0.287469</td>\n",
              "      <td>-0.791875</td>\n",
              "      <td>-0.649222</td>\n",
              "      <td>-0.976323</td>\n",
              "      <td>0.315038</td>\n",
              "      <td>-0.739593</td>\n",
              "      <td>-1.097861</td>\n",
              "      <td>0.148478</td>\n",
              "      <td>0.341472</td>\n",
              "      <td>0.068092</td>\n",
              "    </tr>\n",
              "    <tr>\n",
              "      <th>348</th>\n",
              "      <td>-0.415402</td>\n",
              "      <td>2.962046</td>\n",
              "      <td>-1.310146</td>\n",
              "      <td>-0.287469</td>\n",
              "      <td>-1.035331</td>\n",
              "      <td>0.432593</td>\n",
              "      <td>-1.423926</td>\n",
              "      <td>2.168176</td>\n",
              "      <td>-0.623332</td>\n",
              "      <td>-0.754613</td>\n",
              "      <td>-0.558250</td>\n",
              "      <td>0.367640</td>\n",
              "      <td>-0.912644</td>\n",
              "    </tr>\n",
              "    <tr>\n",
              "      <th>435</th>\n",
              "      <td>0.925158</td>\n",
              "      <td>-0.502148</td>\n",
              "      <td>1.003829</td>\n",
              "      <td>-0.287469</td>\n",
              "      <td>1.525159</td>\n",
              "      <td>0.424260</td>\n",
              "      <td>0.918768</td>\n",
              "      <td>-0.775686</td>\n",
              "      <td>1.701892</td>\n",
              "      <td>1.569842</td>\n",
              "      <td>0.855206</td>\n",
              "      <td>-2.844381</td>\n",
              "      <td>1.504920</td>\n",
              "    </tr>\n",
              "    <tr>\n",
              "      <th>102</th>\n",
              "      <td>-0.389692</td>\n",
              "      <td>-0.502148</td>\n",
              "      <td>-0.368161</td>\n",
              "      <td>-0.287469</td>\n",
              "      <td>-0.321752</td>\n",
              "      <td>0.113186</td>\n",
              "      <td>0.586676</td>\n",
              "      <td>-0.496414</td>\n",
              "      <td>-0.507071</td>\n",
              "      <td>-0.128335</td>\n",
              "      <td>1.164400</td>\n",
              "      <td>-3.290607</td>\n",
              "      <td>-0.263483</td>\n",
              "    </tr>\n",
              "  </tbody>\n",
              "</table>\n",
              "<p>379 rows × 13 columns</p>\n",
              "</div>"
            ],
            "text/plain": [
              "         CRIM        ZN     INDUS  ...   PTRATIO         B     LSTAT\n",
              "182 -0.406258 -0.502148 -1.245430  ... -0.204886  0.403978 -1.076334\n",
              "155  0.007981 -0.502148  1.216675  ... -1.574171 -3.093948  0.350701\n",
              "280 -0.412904  0.363900 -1.120311  ... -1.485830  0.326160 -1.224633\n",
              "126 -0.370617 -0.502148  2.089629  ...  0.369331  0.005975  2.063142\n",
              "329 -0.409120 -0.502148 -1.133255  ... -0.602420  0.187893 -0.723772\n",
              "..        ...       ...       ...  ...       ...       ...       ...\n",
              "106 -0.396616 -0.502148 -0.368161  ...  1.164400  0.421690  0.859956\n",
              "270 -0.381225  0.363900 -0.598265  ...  0.148478  0.341472  0.068092\n",
              "348 -0.415402  2.962046 -1.310146  ... -0.558250  0.367640 -0.912644\n",
              "435  0.925158 -0.502148  1.003829  ...  0.855206 -2.844381  1.504920\n",
              "102 -0.389692 -0.502148 -0.368161  ...  1.164400 -3.290607 -0.263483\n",
              "\n",
              "[379 rows x 13 columns]"
            ]
          },
          "metadata": {
            "tags": []
          },
          "execution_count": 19
        }
      ]
    },
    {
      "cell_type": "code",
      "metadata": {
        "id": "WD5yb4IzNjGK",
        "colab_type": "code",
        "outputId": "ad56f1fd-fa6f-45f3-c0d2-3cb78941be15",
        "colab": {
          "base_uri": "https://localhost:8080/",
          "height": 439
        }
      },
      "source": [
        "X_test"
      ],
      "execution_count": 0,
      "outputs": [
        {
          "output_type": "execute_result",
          "data": {
            "text/html": [
              "<div>\n",
              "<style scoped>\n",
              "    .dataframe tbody tr th:only-of-type {\n",
              "        vertical-align: middle;\n",
              "    }\n",
              "\n",
              "    .dataframe tbody tr th {\n",
              "        vertical-align: top;\n",
              "    }\n",
              "\n",
              "    .dataframe thead th {\n",
              "        text-align: right;\n",
              "    }\n",
              "</style>\n",
              "<table border=\"1\" class=\"dataframe\">\n",
              "  <thead>\n",
              "    <tr style=\"text-align: right;\">\n",
              "      <th></th>\n",
              "      <th>CRIM</th>\n",
              "      <th>ZN</th>\n",
              "      <th>INDUS</th>\n",
              "      <th>CHAS</th>\n",
              "      <th>NOX</th>\n",
              "      <th>RM</th>\n",
              "      <th>AGE</th>\n",
              "      <th>DIS</th>\n",
              "      <th>RAD</th>\n",
              "      <th>TAX</th>\n",
              "      <th>PTRATIO</th>\n",
              "      <th>B</th>\n",
              "      <th>LSTAT</th>\n",
              "    </tr>\n",
              "  </thead>\n",
              "  <tbody>\n",
              "    <tr>\n",
              "      <th>173</th>\n",
              "      <td>-0.406168</td>\n",
              "      <td>-0.502148</td>\n",
              "      <td>-1.016765</td>\n",
              "      <td>-0.287469</td>\n",
              "      <td>-0.405702</td>\n",
              "      <td>0.128462</td>\n",
              "      <td>0.539750</td>\n",
              "      <td>-0.528790</td>\n",
              "      <td>-0.507071</td>\n",
              "      <td>-0.658262</td>\n",
              "      <td>-0.734932</td>\n",
              "      <td>0.419747</td>\n",
              "      <td>-0.485933</td>\n",
              "    </tr>\n",
              "    <tr>\n",
              "      <th>274</th>\n",
              "      <td>-0.410419</td>\n",
              "      <td>1.229949</td>\n",
              "      <td>-0.677363</td>\n",
              "      <td>3.469455</td>\n",
              "      <td>-0.934590</td>\n",
              "      <td>0.603406</td>\n",
              "      <td>-1.308416</td>\n",
              "      <td>0.148706</td>\n",
              "      <td>-0.623332</td>\n",
              "      <td>-0.911182</td>\n",
              "      <td>-0.293227</td>\n",
              "      <td>0.435745</td>\n",
              "      <td>-1.256811</td>\n",
              "    </tr>\n",
              "    <tr>\n",
              "      <th>491</th>\n",
              "      <td>-0.404489</td>\n",
              "      <td>-0.502148</td>\n",
              "      <td>2.390201</td>\n",
              "      <td>-0.287469</td>\n",
              "      <td>0.425407</td>\n",
              "      <td>-0.472855</td>\n",
              "      <td>1.070375</td>\n",
              "      <td>-0.897146</td>\n",
              "      <td>-0.623332</td>\n",
              "      <td>1.840827</td>\n",
              "      <td>0.811036</td>\n",
              "      <td>0.358156</td>\n",
              "      <td>0.777412</td>\n",
              "    </tr>\n",
              "    <tr>\n",
              "      <th>72</th>\n",
              "      <td>-0.406185</td>\n",
              "      <td>-0.502148</td>\n",
              "      <td>-0.044579</td>\n",
              "      <td>-0.287469</td>\n",
              "      <td>-1.220022</td>\n",
              "      <td>-0.358979</td>\n",
              "      <td>-2.214450</td>\n",
              "      <td>0.721308</td>\n",
              "      <td>-0.623332</td>\n",
              "      <td>-0.604065</td>\n",
              "      <td>0.413501</td>\n",
              "      <td>0.367297</td>\n",
              "      <td>-0.978400</td>\n",
              "    </tr>\n",
              "    <tr>\n",
              "      <th>452</th>\n",
              "      <td>0.195035</td>\n",
              "      <td>-0.502148</td>\n",
              "      <td>1.003829</td>\n",
              "      <td>-0.287469</td>\n",
              "      <td>1.298492</td>\n",
              "      <td>-0.036796</td>\n",
              "      <td>0.817697</td>\n",
              "      <td>-0.660427</td>\n",
              "      <td>1.701892</td>\n",
              "      <td>1.569842</td>\n",
              "      <td>0.855206</td>\n",
              "      <td>0.300792</td>\n",
              "      <td>0.665488</td>\n",
              "    </tr>\n",
              "    <tr>\n",
              "      <th>...</th>\n",
              "      <td>...</td>\n",
              "      <td>...</td>\n",
              "      <td>...</td>\n",
              "      <td>...</td>\n",
              "      <td>...</td>\n",
              "      <td>...</td>\n",
              "      <td>...</td>\n",
              "      <td>...</td>\n",
              "      <td>...</td>\n",
              "      <td>...</td>\n",
              "      <td>...</td>\n",
              "      <td>...</td>\n",
              "      <td>...</td>\n",
              "    </tr>\n",
              "    <tr>\n",
              "      <th>418</th>\n",
              "      <td>8.427422</td>\n",
              "      <td>-0.502148</td>\n",
              "      <td>1.003829</td>\n",
              "      <td>-0.287469</td>\n",
              "      <td>1.013061</td>\n",
              "      <td>-0.508961</td>\n",
              "      <td>1.113692</td>\n",
              "      <td>-0.928150</td>\n",
              "      <td>1.701892</td>\n",
              "      <td>1.569842</td>\n",
              "      <td>0.855206</td>\n",
              "      <td>-3.911665</td>\n",
              "      <td>1.134171</td>\n",
              "    </tr>\n",
              "    <tr>\n",
              "      <th>117</th>\n",
              "      <td>-0.399048</td>\n",
              "      <td>-0.502148</td>\n",
              "      <td>-0.159630</td>\n",
              "      <td>-0.287469</td>\n",
              "      <td>-0.095086</td>\n",
              "      <td>-0.420083</td>\n",
              "      <td>0.485604</td>\n",
              "      <td>-0.480935</td>\n",
              "      <td>-0.390809</td>\n",
              "      <td>0.160716</td>\n",
              "      <td>-0.204886</td>\n",
              "      <td>0.408435</td>\n",
              "      <td>-0.309652</td>\n",
              "    </tr>\n",
              "    <tr>\n",
              "      <th>42</th>\n",
              "      <td>-0.400188</td>\n",
              "      <td>-0.502148</td>\n",
              "      <td>-0.605455</td>\n",
              "      <td>-0.287469</td>\n",
              "      <td>-0.926195</td>\n",
              "      <td>-0.214552</td>\n",
              "      <td>-2.257766</td>\n",
              "      <td>0.926550</td>\n",
              "      <td>-0.739593</td>\n",
              "      <td>-1.037642</td>\n",
              "      <td>-0.160715</td>\n",
              "      <td>0.281138</td>\n",
              "      <td>-0.937827</td>\n",
              "    </tr>\n",
              "    <tr>\n",
              "      <th>322</th>\n",
              "      <td>-0.374972</td>\n",
              "      <td>-0.502148</td>\n",
              "      <td>-0.537863</td>\n",
              "      <td>-0.287469</td>\n",
              "      <td>-0.548418</td>\n",
              "      <td>-0.392309</td>\n",
              "      <td>-0.694767</td>\n",
              "      <td>0.453302</td>\n",
              "      <td>-0.507071</td>\n",
              "      <td>-0.712459</td>\n",
              "      <td>0.590183</td>\n",
              "      <td>0.435745</td>\n",
              "      <td>-0.673406</td>\n",
              "    </tr>\n",
              "    <tr>\n",
              "      <th>347</th>\n",
              "      <td>-0.414958</td>\n",
              "      <td>3.178558</td>\n",
              "      <td>-1.002383</td>\n",
              "      <td>-0.287469</td>\n",
              "      <td>-1.085701</td>\n",
              "      <td>0.267335</td>\n",
              "      <td>-1.496120</td>\n",
              "      <td>2.258726</td>\n",
              "      <td>-0.623332</td>\n",
              "      <td>-0.327058</td>\n",
              "      <td>-0.160715</td>\n",
              "      <td>0.384666</td>\n",
              "      <td>-0.860879</td>\n",
              "    </tr>\n",
              "  </tbody>\n",
              "</table>\n",
              "<p>127 rows × 13 columns</p>\n",
              "</div>"
            ],
            "text/plain": [
              "         CRIM        ZN     INDUS  ...   PTRATIO         B     LSTAT\n",
              "173 -0.406168 -0.502148 -1.016765  ... -0.734932  0.419747 -0.485933\n",
              "274 -0.410419  1.229949 -0.677363  ... -0.293227  0.435745 -1.256811\n",
              "491 -0.404489 -0.502148  2.390201  ...  0.811036  0.358156  0.777412\n",
              "72  -0.406185 -0.502148 -0.044579  ...  0.413501  0.367297 -0.978400\n",
              "452  0.195035 -0.502148  1.003829  ...  0.855206  0.300792  0.665488\n",
              "..        ...       ...       ...  ...       ...       ...       ...\n",
              "418  8.427422 -0.502148  1.003829  ...  0.855206 -3.911665  1.134171\n",
              "117 -0.399048 -0.502148 -0.159630  ... -0.204886  0.408435 -0.309652\n",
              "42  -0.400188 -0.502148 -0.605455  ... -0.160715  0.281138 -0.937827\n",
              "322 -0.374972 -0.502148 -0.537863  ...  0.590183  0.435745 -0.673406\n",
              "347 -0.414958  3.178558 -1.002383  ... -0.160715  0.384666 -0.860879\n",
              "\n",
              "[127 rows x 13 columns]"
            ]
          },
          "metadata": {
            "tags": []
          },
          "execution_count": 20
        }
      ]
    },
    {
      "cell_type": "markdown",
      "metadata": {
        "id": "nBvcP4YgMXPC",
        "colab_type": "text"
      },
      "source": [
        "Начинаем строить модель линейной регрессии"
      ]
    },
    {
      "cell_type": "code",
      "metadata": {
        "id": "JCL-wyNnMbOF",
        "colab_type": "code",
        "outputId": "6de91bf3-fb5b-41eb-9a50-12f3d94fe0e0",
        "colab": {
          "base_uri": "https://localhost:8080/",
          "height": 34
        }
      },
      "source": [
        "from sklearn.linear_model import LinearRegression\n",
        "lin_regr = LinearRegression()\n",
        "lin_regr.fit(X_train, y_train)"
      ],
      "execution_count": 0,
      "outputs": [
        {
          "output_type": "execute_result",
          "data": {
            "text/plain": [
              "LinearRegression(copy_X=True, fit_intercept=True, n_jobs=None, normalize=False)"
            ]
          },
          "metadata": {
            "tags": []
          },
          "execution_count": 36
        }
      ]
    },
    {
      "cell_type": "code",
      "metadata": {
        "id": "hyy9D5SrM1HA",
        "colab_type": "code",
        "colab": {}
      },
      "source": [
        "predict = lin_regr.predict(X_test)"
      ],
      "execution_count": 0,
      "outputs": []
    },
    {
      "cell_type": "code",
      "metadata": {
        "id": "hD6l8dnlM6xw",
        "colab_type": "code",
        "outputId": "f4a75f89-e934-4b48-ee8b-6c7a681fea31",
        "colab": {
          "base_uri": "https://localhost:8080/",
          "height": 51
        }
      },
      "source": [
        "predict[:10]"
      ],
      "execution_count": 0,
      "outputs": [
        {
          "output_type": "execute_result",
          "data": {
            "text/plain": [
              "array([28.83885359, 36.00783288, 15.08324755, 25.23090886, 18.87864064,\n",
              "       23.21398327, 17.5931124 , 14.30508093, 23.05438985, 20.62008346])"
            ]
          },
          "metadata": {
            "tags": []
          },
          "execution_count": 38
        }
      ]
    },
    {
      "cell_type": "code",
      "metadata": {
        "id": "cP7X0DCOM-Ya",
        "colab_type": "code",
        "outputId": "b0813154-85a1-4cb8-de7b-a753d48fe685",
        "colab": {
          "base_uri": "https://localhost:8080/",
          "height": 204
        }
      },
      "source": [
        "y_test[:10]"
      ],
      "execution_count": 0,
      "outputs": [
        {
          "output_type": "execute_result",
          "data": {
            "text/plain": [
              "173    23.6\n",
              "274    32.4\n",
              "491    13.6\n",
              "72     22.8\n",
              "452    16.1\n",
              "76     20.0\n",
              "316    17.8\n",
              "140    14.0\n",
              "471    19.6\n",
              "500    16.8\n",
              "Name: MEDV, dtype: float64"
            ]
          },
          "metadata": {
            "tags": []
          },
          "execution_count": 39
        }
      ]
    },
    {
      "cell_type": "markdown",
      "metadata": {
        "id": "Rzvw6P1NN5VJ",
        "colab_type": "text"
      },
      "source": [
        "Как понять, что модель работает хорошо?"
      ]
    },
    {
      "cell_type": "code",
      "metadata": {
        "id": "RNhvamewN4oF",
        "colab_type": "code",
        "colab": {}
      },
      "source": [
        "from sklearn.metrics import mean_squared_error\n",
        "error = mean_squared_error(y_test, predict)"
      ],
      "execution_count": 0,
      "outputs": []
    },
    {
      "cell_type": "code",
      "metadata": {
        "id": "dXhvh3pDO7Ao",
        "colab_type": "code",
        "outputId": "766fbaeb-ffaa-4adf-9229-3f1db2d582fd",
        "colab": {
          "base_uri": "https://localhost:8080/",
          "height": 34
        }
      },
      "source": [
        "print(error)"
      ],
      "execution_count": 0,
      "outputs": [
        {
          "output_type": "stream",
          "text": [
            "22.09869482709799\n"
          ],
          "name": "stdout"
        }
      ]
    },
    {
      "cell_type": "markdown",
      "metadata": {
        "id": "U3gJO-kxPCnq",
        "colab_type": "text"
      },
      "source": [
        "Строим наивную модель"
      ]
    },
    {
      "cell_type": "code",
      "metadata": {
        "id": "hQvRz7xoPEz3",
        "colab_type": "code",
        "outputId": "38b4c137-103b-4030-95ea-1fd84d17ac61",
        "colab": {
          "base_uri": "https://localhost:8080/",
          "height": 54
        }
      },
      "source": [
        "predict_n = [y_train.mean() for x in range (len(y_train))]\n",
        "print(predict_n)"
      ],
      "execution_count": 0,
      "outputs": [
        {
          "output_type": "stream",
          "text": [
            "[22.907915567282323, 22.907915567282323, 22.907915567282323, 22.907915567282323, 22.907915567282323, 22.907915567282323, 22.907915567282323, 22.907915567282323, 22.907915567282323, 22.907915567282323, 22.907915567282323, 22.907915567282323, 22.907915567282323, 22.907915567282323, 22.907915567282323, 22.907915567282323, 22.907915567282323, 22.907915567282323, 22.907915567282323, 22.907915567282323, 22.907915567282323, 22.907915567282323, 22.907915567282323, 22.907915567282323, 22.907915567282323, 22.907915567282323, 22.907915567282323, 22.907915567282323, 22.907915567282323, 22.907915567282323, 22.907915567282323, 22.907915567282323, 22.907915567282323, 22.907915567282323, 22.907915567282323, 22.907915567282323, 22.907915567282323, 22.907915567282323, 22.907915567282323, 22.907915567282323, 22.907915567282323, 22.907915567282323, 22.907915567282323, 22.907915567282323, 22.907915567282323, 22.907915567282323, 22.907915567282323, 22.907915567282323, 22.907915567282323, 22.907915567282323, 22.907915567282323, 22.907915567282323, 22.907915567282323, 22.907915567282323, 22.907915567282323, 22.907915567282323, 22.907915567282323, 22.907915567282323, 22.907915567282323, 22.907915567282323, 22.907915567282323, 22.907915567282323, 22.907915567282323, 22.907915567282323, 22.907915567282323, 22.907915567282323, 22.907915567282323, 22.907915567282323, 22.907915567282323, 22.907915567282323, 22.907915567282323, 22.907915567282323, 22.907915567282323, 22.907915567282323, 22.907915567282323, 22.907915567282323, 22.907915567282323, 22.907915567282323, 22.907915567282323, 22.907915567282323, 22.907915567282323, 22.907915567282323, 22.907915567282323, 22.907915567282323, 22.907915567282323, 22.907915567282323, 22.907915567282323, 22.907915567282323, 22.907915567282323, 22.907915567282323, 22.907915567282323, 22.907915567282323, 22.907915567282323, 22.907915567282323, 22.907915567282323, 22.907915567282323, 22.907915567282323, 22.907915567282323, 22.907915567282323, 22.907915567282323, 22.907915567282323, 22.907915567282323, 22.907915567282323, 22.907915567282323, 22.907915567282323, 22.907915567282323, 22.907915567282323, 22.907915567282323, 22.907915567282323, 22.907915567282323, 22.907915567282323, 22.907915567282323, 22.907915567282323, 22.907915567282323, 22.907915567282323, 22.907915567282323, 22.907915567282323, 22.907915567282323, 22.907915567282323, 22.907915567282323, 22.907915567282323, 22.907915567282323, 22.907915567282323, 22.907915567282323, 22.907915567282323, 22.907915567282323, 22.907915567282323, 22.907915567282323, 22.907915567282323, 22.907915567282323, 22.907915567282323, 22.907915567282323, 22.907915567282323, 22.907915567282323, 22.907915567282323, 22.907915567282323, 22.907915567282323, 22.907915567282323, 22.907915567282323, 22.907915567282323, 22.907915567282323, 22.907915567282323, 22.907915567282323, 22.907915567282323, 22.907915567282323, 22.907915567282323, 22.907915567282323, 22.907915567282323, 22.907915567282323, 22.907915567282323, 22.907915567282323, 22.907915567282323, 22.907915567282323, 22.907915567282323, 22.907915567282323, 22.907915567282323, 22.907915567282323, 22.907915567282323, 22.907915567282323, 22.907915567282323, 22.907915567282323, 22.907915567282323, 22.907915567282323, 22.907915567282323, 22.907915567282323, 22.907915567282323, 22.907915567282323, 22.907915567282323, 22.907915567282323, 22.907915567282323, 22.907915567282323, 22.907915567282323, 22.907915567282323, 22.907915567282323, 22.907915567282323, 22.907915567282323, 22.907915567282323, 22.907915567282323, 22.907915567282323, 22.907915567282323, 22.907915567282323, 22.907915567282323, 22.907915567282323, 22.907915567282323, 22.907915567282323, 22.907915567282323, 22.907915567282323, 22.907915567282323, 22.907915567282323, 22.907915567282323, 22.907915567282323, 22.907915567282323, 22.907915567282323, 22.907915567282323, 22.907915567282323, 22.907915567282323, 22.907915567282323, 22.907915567282323, 22.907915567282323, 22.907915567282323, 22.907915567282323, 22.907915567282323, 22.907915567282323, 22.907915567282323, 22.907915567282323, 22.907915567282323, 22.907915567282323, 22.907915567282323, 22.907915567282323, 22.907915567282323, 22.907915567282323, 22.907915567282323, 22.907915567282323, 22.907915567282323, 22.907915567282323, 22.907915567282323, 22.907915567282323, 22.907915567282323, 22.907915567282323, 22.907915567282323, 22.907915567282323, 22.907915567282323, 22.907915567282323, 22.907915567282323, 22.907915567282323, 22.907915567282323, 22.907915567282323, 22.907915567282323, 22.907915567282323, 22.907915567282323, 22.907915567282323, 22.907915567282323, 22.907915567282323, 22.907915567282323, 22.907915567282323, 22.907915567282323, 22.907915567282323, 22.907915567282323, 22.907915567282323, 22.907915567282323, 22.907915567282323, 22.907915567282323, 22.907915567282323, 22.907915567282323, 22.907915567282323, 22.907915567282323, 22.907915567282323, 22.907915567282323, 22.907915567282323, 22.907915567282323, 22.907915567282323, 22.907915567282323, 22.907915567282323, 22.907915567282323, 22.907915567282323, 22.907915567282323, 22.907915567282323, 22.907915567282323, 22.907915567282323, 22.907915567282323, 22.907915567282323, 22.907915567282323, 22.907915567282323, 22.907915567282323, 22.907915567282323, 22.907915567282323, 22.907915567282323, 22.907915567282323, 22.907915567282323, 22.907915567282323, 22.907915567282323, 22.907915567282323, 22.907915567282323, 22.907915567282323, 22.907915567282323, 22.907915567282323, 22.907915567282323, 22.907915567282323, 22.907915567282323, 22.907915567282323, 22.907915567282323, 22.907915567282323, 22.907915567282323, 22.907915567282323, 22.907915567282323, 22.907915567282323, 22.907915567282323, 22.907915567282323, 22.907915567282323, 22.907915567282323, 22.907915567282323, 22.907915567282323, 22.907915567282323, 22.907915567282323, 22.907915567282323, 22.907915567282323, 22.907915567282323, 22.907915567282323, 22.907915567282323, 22.907915567282323, 22.907915567282323, 22.907915567282323, 22.907915567282323, 22.907915567282323, 22.907915567282323, 22.907915567282323, 22.907915567282323, 22.907915567282323, 22.907915567282323, 22.907915567282323, 22.907915567282323, 22.907915567282323, 22.907915567282323, 22.907915567282323, 22.907915567282323, 22.907915567282323, 22.907915567282323, 22.907915567282323, 22.907915567282323, 22.907915567282323, 22.907915567282323, 22.907915567282323, 22.907915567282323, 22.907915567282323, 22.907915567282323, 22.907915567282323, 22.907915567282323, 22.907915567282323, 22.907915567282323, 22.907915567282323, 22.907915567282323, 22.907915567282323, 22.907915567282323, 22.907915567282323, 22.907915567282323, 22.907915567282323, 22.907915567282323, 22.907915567282323, 22.907915567282323, 22.907915567282323, 22.907915567282323, 22.907915567282323, 22.907915567282323, 22.907915567282323, 22.907915567282323, 22.907915567282323, 22.907915567282323, 22.907915567282323, 22.907915567282323, 22.907915567282323, 22.907915567282323, 22.907915567282323, 22.907915567282323, 22.907915567282323, 22.907915567282323, 22.907915567282323, 22.907915567282323, 22.907915567282323, 22.907915567282323, 22.907915567282323, 22.907915567282323, 22.907915567282323, 22.907915567282323, 22.907915567282323, 22.907915567282323, 22.907915567282323, 22.907915567282323, 22.907915567282323, 22.907915567282323, 22.907915567282323, 22.907915567282323, 22.907915567282323, 22.907915567282323, 22.907915567282323, 22.907915567282323, 22.907915567282323, 22.907915567282323, 22.907915567282323, 22.907915567282323]\n"
          ],
          "name": "stdout"
        }
      ]
    },
    {
      "cell_type": "code",
      "metadata": {
        "id": "-MIZ4pBAPUkQ",
        "colab_type": "code",
        "colab": {}
      },
      "source": [
        "error = mean_squared_error(y_train, predict_n)"
      ],
      "execution_count": 0,
      "outputs": []
    },
    {
      "cell_type": "code",
      "metadata": {
        "id": "rr1lbeUaPfFY",
        "colab_type": "code",
        "outputId": "03480075-4c99-4b1c-f836-437425c73897",
        "colab": {
          "base_uri": "https://localhost:8080/",
          "height": 34
        }
      },
      "source": [
        "print(error)"
      ],
      "execution_count": 0,
      "outputs": [
        {
          "output_type": "stream",
          "text": [
            "88.68173153904524\n"
          ],
          "name": "stdout"
        }
      ]
    },
    {
      "cell_type": "markdown",
      "metadata": {
        "id": "LqNST70tQg-h",
        "colab_type": "text"
      },
      "source": [
        "Построим еще одну линейную модель"
      ]
    },
    {
      "cell_type": "code",
      "metadata": {
        "id": "wX7iD00bP-FD",
        "colab_type": "code",
        "outputId": "a08eadae-d795-424e-d1ed-6806a022cbef",
        "colab": {
          "base_uri": "https://localhost:8080/",
          "height": 51
        }
      },
      "source": [
        "from sklearn.linear_model import RidgeCV\n",
        "\n",
        "ridg = RidgeCV(alphas=[ 0.001,  0.01 , 100 ])\n",
        "ridg.fit(X_train, y_train)"
      ],
      "execution_count": 0,
      "outputs": [
        {
          "output_type": "execute_result",
          "data": {
            "text/plain": [
              "RidgeCV(alphas=array([1.e-03, 1.e-02, 1.e+02]), cv=None, fit_intercept=True,\n",
              "        gcv_mode=None, normalize=False, scoring=None, store_cv_values=False)"
            ]
          },
          "metadata": {
            "tags": []
          },
          "execution_count": 42
        }
      ]
    },
    {
      "cell_type": "code",
      "metadata": {
        "id": "rtDuIfAhQPua",
        "colab_type": "code",
        "outputId": "d3c93224-af05-44ce-8d9f-18a54037fa8b",
        "colab": {
          "base_uri": "https://localhost:8080/",
          "height": 34
        }
      },
      "source": [
        "predict_ridg = ridg.predict(X_train)\n",
        "error = mean_squared_error(y_train, predict_ridg)\n",
        "print(error)"
      ],
      "execution_count": 0,
      "outputs": [
        {
          "output_type": "stream",
          "text": [
            "22.340058141147207\n"
          ],
          "name": "stdout"
        }
      ]
    },
    {
      "cell_type": "markdown",
      "metadata": {
        "id": "EPXk_z59FM6N",
        "colab_type": "text"
      },
      "source": [
        "### Прикрутим нейронную сеть"
      ]
    },
    {
      "cell_type": "code",
      "metadata": {
        "id": "alKQ6nL_FQeg",
        "colab_type": "code",
        "outputId": "5e2aba75-003e-4a6f-ee4f-408f73d28fad",
        "colab": {
          "base_uri": "https://localhost:8080/",
          "height": 323
        }
      },
      "source": [
        "from keras.models import Sequential\n",
        "from keras.layers.core import Dense, Activation\n",
        "\n",
        "model = Sequential()\n",
        "\n",
        "model.add( Dense(64,input_shape=(13,)))\n",
        "model.add(Activation('sigmoid'))\n",
        "model.add(Dense(32))\n",
        "model.add(Activation('sigmoid'))\n",
        "model.add(Dense(1))\n",
        "model.summary()"
      ],
      "execution_count": 0,
      "outputs": [
        {
          "output_type": "stream",
          "text": [
            "Model: \"sequential_2\"\n",
            "_________________________________________________________________\n",
            "Layer (type)                 Output Shape              Param #   \n",
            "=================================================================\n",
            "dense_3 (Dense)              (None, 64)                896       \n",
            "_________________________________________________________________\n",
            "activation_2 (Activation)    (None, 64)                0         \n",
            "_________________________________________________________________\n",
            "dense_4 (Dense)              (None, 32)                2080      \n",
            "_________________________________________________________________\n",
            "activation_3 (Activation)    (None, 32)                0         \n",
            "_________________________________________________________________\n",
            "dense_5 (Dense)              (None, 1)                 33        \n",
            "=================================================================\n",
            "Total params: 3,009\n",
            "Trainable params: 3,009\n",
            "Non-trainable params: 0\n",
            "_________________________________________________________________\n"
          ],
          "name": "stdout"
        }
      ]
    },
    {
      "cell_type": "code",
      "metadata": {
        "id": "IekmNoMwMuPI",
        "colab_type": "code",
        "colab": {}
      },
      "source": [
        "from keras.optimizers import Adam\n",
        "\n",
        "model.compile(loss='mean_squared_error',\n",
        "              optimizer=Adam(), \n",
        "              metrics=['mae'])\n"
      ],
      "execution_count": 0,
      "outputs": []
    },
    {
      "cell_type": "code",
      "metadata": {
        "id": "GBS7d4GyN25Z",
        "colab_type": "code",
        "outputId": "9bf9a108-7645-458e-fb83-917186144348",
        "colab": {
          "base_uri": "https://localhost:8080/",
          "height": 204
        }
      },
      "source": [
        "model.fit(X_train, y_train, batch_size=5, epochs=5)"
      ],
      "execution_count": 0,
      "outputs": [
        {
          "output_type": "stream",
          "text": [
            "Epoch 1/5\n",
            "379/379 [==============================] - 0s 337us/step - loss: 25.3268 - mean_absolute_error: 3.2342\n",
            "Epoch 2/5\n",
            "379/379 [==============================] - 0s 321us/step - loss: 24.4790 - mean_absolute_error: 3.2135\n",
            "Epoch 3/5\n",
            "379/379 [==============================] - 0s 364us/step - loss: 23.6319 - mean_absolute_error: 3.1230\n",
            "Epoch 4/5\n",
            "379/379 [==============================] - 0s 328us/step - loss: 23.0285 - mean_absolute_error: 3.0980\n",
            "Epoch 5/5\n",
            "379/379 [==============================] - 0s 337us/step - loss: 22.2591 - mean_absolute_error: 3.0759\n"
          ],
          "name": "stdout"
        },
        {
          "output_type": "execute_result",
          "data": {
            "text/plain": [
              "<keras.callbacks.History at 0x7f3321234d30>"
            ]
          },
          "metadata": {
            "tags": []
          },
          "execution_count": 64
        }
      ]
    },
    {
      "cell_type": "code",
      "metadata": {
        "id": "fK-1oLMKOh5q",
        "colab_type": "code",
        "colab": {}
      },
      "source": [
        "y_nn = model.predict(X_test)"
      ],
      "execution_count": 0,
      "outputs": []
    },
    {
      "cell_type": "code",
      "metadata": {
        "id": "6_nDcWAHOoZ_",
        "colab_type": "code",
        "outputId": "8ff1f97b-b0e9-4b8f-e036-7cfe2a48ad9c",
        "colab": {
          "base_uri": "https://localhost:8080/",
          "height": 357
        }
      },
      "source": [
        "y_nn[:20]"
      ],
      "execution_count": 0,
      "outputs": [
        {
          "output_type": "execute_result",
          "data": {
            "text/plain": [
              "array([[26.819849],\n",
              "       [32.014297],\n",
              "       [15.796987],\n",
              "       [23.807493],\n",
              "       [15.612715],\n",
              "       [21.333563],\n",
              "       [18.506968],\n",
              "       [14.220138],\n",
              "       [24.037855],\n",
              "       [19.668047],\n",
              "       [20.21261 ],\n",
              "       [19.417229],\n",
              "       [ 8.83879 ],\n",
              "       [20.879665],\n",
              "       [20.080233],\n",
              "       [29.8969  ],\n",
              "       [18.214224],\n",
              "       [10.476289],\n",
              "       [33.889656],\n",
              "       [14.101839]], dtype=float32)"
            ]
          },
          "metadata": {
            "tags": []
          },
          "execution_count": 67
        }
      ]
    },
    {
      "cell_type": "code",
      "metadata": {
        "id": "qxjIZrSOPPhU",
        "colab_type": "code",
        "outputId": "f1a0144b-4722-44d8-c544-699fde64d13f",
        "colab": {
          "base_uri": "https://localhost:8080/",
          "height": 34
        }
      },
      "source": [
        "from sklearn.metrics import mean_squared_error\n",
        "error = mean_squared_error(y_test, y_nn)\n",
        "print(error)"
      ],
      "execution_count": 0,
      "outputs": [
        {
          "output_type": "stream",
          "text": [
            "20.41304467975796\n"
          ],
          "name": "stdout"
        }
      ]
    }
  ]
}