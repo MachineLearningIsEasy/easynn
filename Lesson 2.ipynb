{
  "nbformat": 4,
  "nbformat_minor": 0,
  "metadata": {
    "colab": {
      "name": "Занятие № 2.ipynb",
      "provenance": [],
      "collapsed_sections": []
    },
    "kernelspec": {
      "name": "python3",
      "display_name": "Python 3"
    }
  },
  "cells": [
    {
      "cell_type": "markdown",
      "metadata": {
        "id": "3ac4ywdmCec7",
        "colab_type": "text"
      },
      "source": [
        "# Занятие №2. Знакомство с понятием Dataset на примере Fashion-Mnist"
      ]
    },
    {
      "cell_type": "markdown",
      "metadata": {
        "id": "mQUEIs6CFxNI",
        "colab_type": "text"
      },
      "source": [
        "### Готовые DatasetЫ\n",
        "\n",
        "В популярных библиотеках машинного обучения (например, [Scikit-learn](https://scikit-learn.org/stable/)) и построения нейросетей (например, [Tensorflow](https://www.tensorflow.org/guide/keras?hl=ru)) есть множество уже готовых датасетов. \n",
        "\n",
        "Поработаем сегодня с датасетом [Fashion-Mnist](https://www.kaggle.com/zalando-research/fashionmnist)."
      ]
    },
    {
      "cell_type": "code",
      "metadata": {
        "id": "vy94BfjSC5uT",
        "colab_type": "code",
        "colab": {
          "base_uri": "https://localhost:8080/",
          "height": 34
        },
        "outputId": "0c2d5d81-35b9-4f78-ea57-30f011e18d60"
      },
      "source": [
        "from keras.datasets import fashion_mnist"
      ],
      "execution_count": 1,
      "outputs": [
        {
          "output_type": "stream",
          "text": [
            "Using TensorFlow backend.\n"
          ],
          "name": "stderr"
        }
      ]
    },
    {
      "cell_type": "code",
      "metadata": {
        "id": "NuZTStrdUFN9",
        "colab_type": "code",
        "colab": {}
      },
      "source": [
        "# Выполняем загрузку DatasetА\n",
        "\n",
        "( x_train, y_train ), ( x_test, y_test ) = fashion_mnist.load_data()"
      ],
      "execution_count": 0,
      "outputs": []
    },
    {
      "cell_type": "markdown",
      "metadata": {
        "id": "UyB9Ra2vU-a2",
        "colab_type": "text"
      },
      "source": [
        "Dataset **Fashio-Mnist** состоит из элементов одежды. Пример изображений из датасета:"
      ]
    },
    {
      "cell_type": "markdown",
      "metadata": {
        "id": "zImCoAt4vNOH",
        "colab_type": "text"
      },
      "source": [
        "![alt text](https://tensorflow.org/images/fashion-mnist-sprite.png)"
      ]
    },
    {
      "cell_type": "markdown",
      "metadata": {
        "id": "CIEkGblTUWPc",
        "colab_type": "text"
      },
      "source": [
        "Всего представлено 10 классов:"
      ]
    },
    {
      "cell_type": "markdown",
      "metadata": {
        "colab_type": "text",
        "id": "JS952dP1Vllc"
      },
      "source": [
        "<table>\n",
        "  <tr>\n",
        "    <th>Метка</th>\n",
        "    <th>Класс</th> \n",
        "  </tr>\n",
        "  <tr>\n",
        "    <td>0</td>\n",
        "    <td>Футболка / топ</td> \n",
        "  </tr>\n",
        "  <tr>\n",
        "    <td>1</td>\n",
        "    <td>Шорты</td> \n",
        "  </tr>\n",
        "    <tr>\n",
        "    <td>2</td>\n",
        "    <td>Свитер</td> \n",
        "  </tr>\n",
        "    <tr>\n",
        "    <td>3</td>\n",
        "    <td>Платье</td> \n",
        "  </tr>\n",
        "    <tr>\n",
        "    <td>4</td>\n",
        "    <td>Плащ</td> \n",
        "  </tr>\n",
        "    <tr>\n",
        "    <td>5</td>\n",
        "    <td>Сандали</td> \n",
        "  </tr>\n",
        "    <tr>\n",
        "    <td>6</td>\n",
        "    <td>Рубашка</td> \n",
        "  </tr>\n",
        "    <tr>\n",
        "    <td>7</td>\n",
        "    <td>Кроссовок</td> \n",
        "  </tr>\n",
        "    <tr>\n",
        "    <td>8</td>\n",
        "    <td>Сумка</td> \n",
        "  </tr>\n",
        "    <tr>\n",
        "    <td>9</td>\n",
        "    <td>Ботинок</td> \n",
        "  </tr>\n",
        "</table>\n"
      ]
    },
    {
      "cell_type": "markdown",
      "metadata": {
        "id": "z_-V_n1xWRsm",
        "colab_type": "text"
      },
      "source": [
        "Посмотрим каким образом эти данные содержаться в датасете.\n",
        "\n",
        "Выше мы загрузили данные в переменные **x_train** и **x_test**.\n",
        "\n",
        "Немного позже обсудим для чего их две и чем они отличаются.\n",
        "\n",
        "Что находится в **x_train**?"
      ]
    },
    {
      "cell_type": "code",
      "metadata": {
        "id": "axFGNzHAcFzy",
        "colab_type": "code",
        "outputId": "2cb01755-40b5-41f5-b05d-d96cac2dc293",
        "colab": {
          "base_uri": "https://localhost:8080/",
          "height": 51
        }
      },
      "source": [
        "print('Тип данных: ', type(x_train))\n",
        "print('Размеры датасета: ', x_train.shape)"
      ],
      "execution_count": 4,
      "outputs": [
        {
          "output_type": "stream",
          "text": [
            "Тип данных:  <class 'numpy.ndarray'>\n",
            "Размеры датасета:  (60000, 28, 28)\n"
          ],
          "name": "stdout"
        }
      ]
    },
    {
      "cell_type": "markdown",
      "metadata": {
        "id": "ZQqjIvp1wRN5",
        "colab_type": "text"
      },
      "source": [
        "Каждое изображение представляет собой квадратную таблицу размеров 28x28, в каждой ячейке число от 0 до 255. Число определяет интенсивность черного цвета пикселя."
      ]
    },
    {
      "cell_type": "code",
      "metadata": {
        "id": "mBI-X9VzXHdZ",
        "colab_type": "code",
        "outputId": "ef85ad32-e5bd-4f2d-cf1f-ce4b4715dc96",
        "colab": {
          "base_uri": "https://localhost:8080/",
          "height": 1000
        }
      },
      "source": [
        "# Так изображение хранится в памяти \n",
        "x_train[10]"
      ],
      "execution_count": 0,
      "outputs": [
        {
          "output_type": "execute_result",
          "data": {
            "text/plain": [
              "array([[  0,   0,   0,   0,   0,   0,   0,  11, 142, 200, 106,   0,   0,\n",
              "          0,   0,   0,   0,   0,  85, 185, 112,   0,   0,   0,   0,   0,\n",
              "          0,   0],\n",
              "       [  0,   0,   0,   0,   0,   0, 152, 214, 217, 194, 236, 216, 187,\n",
              "        149, 135, 153, 211, 217, 231, 205, 217, 188,  34,   0,   0,   0,\n",
              "          0,   0],\n",
              "       [  0,   0,   0,   0,   0,  66, 185, 166, 180, 181, 190, 211, 221,\n",
              "        197, 146, 198, 206, 191, 168, 190, 172, 188, 175,   0,   0,   0,\n",
              "          0,   0],\n",
              "       [  0,   0,   0,   0,   0, 135, 153, 160, 175, 180, 170, 186, 187,\n",
              "        190, 188, 190, 187, 174, 195, 185, 174, 161, 175,  59,   0,   0,\n",
              "          0,   0],\n",
              "       [  0,   0,   0,   0,   0, 161, 147, 160, 170, 178, 177, 180, 168,\n",
              "        173, 174, 171, 185, 184, 185, 172, 171, 164, 174, 120,   0,   0,\n",
              "          0,   0],\n",
              "       [  0,   0,   0,   0,   2, 175, 146, 145, 168, 178, 181, 185, 180,\n",
              "        184, 178, 179, 187, 191, 193, 190, 181, 171, 172, 158,   0,   0,\n",
              "          0,   0],\n",
              "       [  0,   0,   0,   0,  35, 177, 155, 140, 151, 172, 191, 187, 186,\n",
              "        187, 186, 187, 182, 191, 194, 188, 180, 161, 161, 185,   0,   0,\n",
              "          0,   0],\n",
              "       [  0,   0,   0,   0,  59, 170, 153, 141, 120, 154, 160, 161, 172,\n",
              "        168, 166, 161, 165, 172, 170, 164, 139, 149, 162, 166,  21,   0,\n",
              "          0,   0],\n",
              "       [  0,   0,   0,   0,  79, 145, 160, 214, 123, 128, 153, 160, 164,\n",
              "        158, 157, 154, 155, 170, 165, 141, 195, 193, 152, 166,  61,   0,\n",
              "          0,   0],\n",
              "       [  0,   0,   0,   0, 100, 157, 225, 245, 175, 113, 174, 158, 158,\n",
              "        160, 155, 160, 164, 178, 188, 135, 185, 240, 201, 172, 108,   0,\n",
              "          0,   0],\n",
              "       [  0,   0,   0,   0,   0,  31, 174,  28, 126, 153, 166, 152, 158,\n",
              "        158, 160, 161, 157, 168, 191, 188,  18, 132, 159,   7,   0,   0,\n",
              "          0,   0],\n",
              "       [  0,   0,   0,   0,   0,   0,   0,   0,  82, 187, 159, 153, 157,\n",
              "        158, 162, 164, 164, 154, 187, 190,   0,   0,   0,   0,   0,   0,\n",
              "          0,   0],\n",
              "       [  0,   0,   0,   0,   1,   3,   5,   0,  37, 175, 158, 155, 162,\n",
              "        158, 160, 162, 165, 153, 177, 205,   0,   0,   3,   3,   0,   0,\n",
              "          0,   0],\n",
              "       [  0,   0,   0,   0,   0,   0,   1,   0,  25, 175, 152, 160, 158,\n",
              "        161, 160, 164, 164, 161, 166, 200,   0,   0,   1,   0,   0,   0,\n",
              "          0,   0],\n",
              "       [  0,   0,   0,   0,   0,   0,   4,   0,  30, 171, 147, 164, 155,\n",
              "        165, 161, 165, 162, 170, 164, 162,   0,   0,   2,   0,   0,   0,\n",
              "          0,   0],\n",
              "       [  0,   0,   0,   0,   0,   0,   4,   0,  57, 166, 155, 164, 166,\n",
              "        161, 161, 164, 167, 165, 165, 162,  28,   0,   3,   0,   0,   0,\n",
              "          0,   0],\n",
              "       [  0,   0,   0,   0,   0,   0,   3,   0, 114, 161, 161, 166, 159,\n",
              "        168, 161, 161, 172, 162, 165, 171,  50,   0,   5,   0,   0,   0,\n",
              "          0,   0],\n",
              "       [  0,   0,   0,   0,   0,   0,   1,   0, 149, 157, 167, 172, 159,\n",
              "        172, 164, 161, 172, 170, 160, 171,  89,   0,   4,   0,   0,   0,\n",
              "          0,   0],\n",
              "       [  0,   0,   0,   0,   0,   2,   0,   4, 171, 164, 166, 173, 159,\n",
              "        179, 166, 160, 174, 167, 162, 166, 128,   0,   2,   0,   0,   0,\n",
              "          0,   0],\n",
              "       [  0,   0,   0,   0,   0,   3,   0,  18, 152, 173, 160, 179, 154,\n",
              "        181, 166, 164, 175, 170, 166, 170, 164,   0,   0,   1,   0,   0,\n",
              "          0,   0],\n",
              "       [  0,   0,   0,   0,   0,   4,   0,  47, 165, 172, 167, 185, 153,\n",
              "        187, 173, 165, 174, 179, 166, 166, 158,   5,   0,   3,   0,   0,\n",
              "          0,   0],\n",
              "       [  0,   0,   0,   0,   0,   4,   0,  87, 180, 162, 179, 179, 157,\n",
              "        191, 182, 165, 168, 190, 173, 165, 166,  20,   0,   4,   0,   0,\n",
              "          0,   0],\n",
              "       [  0,   0,   0,   0,   0,   4,   0, 105, 187, 157, 194, 175, 161,\n",
              "        190, 184, 170, 158, 205, 177, 168, 171,  44,   0,   4,   0,   0,\n",
              "          0,   0],\n",
              "       [  0,   0,   0,   0,   0,   5,   0, 138, 181, 158, 205, 160, 167,\n",
              "        190, 198, 167, 152, 218, 186, 170, 172,  57,   0,   5,   0,   0,\n",
              "          0,   0],\n",
              "       [  0,   0,   0,   0,   0,   5,   0, 135, 174, 167, 199, 155, 166,\n",
              "        201, 219, 165, 158, 218, 188, 167, 175,  56,   0,   7,   0,   0,\n",
              "          0,   0],\n",
              "       [  0,   0,   0,   0,   0,   5,   0, 129, 171, 172, 177, 153, 159,\n",
              "        206, 216, 148, 157, 206, 190, 165, 175,  48,   0,   5,   0,   0,\n",
              "          0,   0],\n",
              "       [  0,   0,   0,   0,   0,   5,   0, 167, 187, 182, 198, 194, 200,\n",
              "        226, 240, 184, 206, 255, 197, 178, 179,  42,   0,   5,   0,   0,\n",
              "          0,   0],\n",
              "       [  0,   0,   0,   0,   0,   3,   0, 115, 135, 113, 106,  85,  82,\n",
              "        108, 133,  83,  90, 121, 120, 110, 158,  18,   0,   3,   0,   0,\n",
              "          0,   0]], dtype=uint8)"
            ]
          },
          "metadata": {
            "tags": []
          },
          "execution_count": 9
        }
      ]
    },
    {
      "cell_type": "code",
      "metadata": {
        "id": "F_89yFc3Nc5u",
        "colab_type": "code",
        "outputId": "8c326882-42f5-4e05-ac17-4a6fa0ea763a",
        "colab": {
          "base_uri": "https://localhost:8080/",
          "height": 34
        }
      },
      "source": [
        "# В массиве y_train находятся метки изображений датасета x_train\n",
        "y_train[10]"
      ],
      "execution_count": 0,
      "outputs": [
        {
          "output_type": "execute_result",
          "data": {
            "text/plain": [
              "0"
            ]
          },
          "metadata": {
            "tags": []
          },
          "execution_count": 10
        }
      ]
    },
    {
      "cell_type": "markdown",
      "metadata": {
        "id": "h9fn35m9wwYO",
        "colab_type": "text"
      },
      "source": [
        "Убедимся, что перед нами действительно футболка."
      ]
    },
    {
      "cell_type": "code",
      "metadata": {
        "id": "PYqdANsEXVjd",
        "colab_type": "code",
        "outputId": "8bdedfe8-147c-4513-c989-5abe2dd9452c",
        "colab": {
          "base_uri": "https://localhost:8080/",
          "height": 269
        }
      },
      "source": [
        "# Отобразим картинку на экране\n",
        "import matplotlib.pyplot as plt\n",
        "\n",
        "image = x_train[10]\n",
        "\n",
        "plt.figure()\n",
        "plt.imshow(image, cmap=plt.cm.binary)\n",
        "#plt.colorbar()\n",
        "plt.grid(False)\n",
        "plt.show()"
      ],
      "execution_count": 5,
      "outputs": [
        {
          "output_type": "display_data",
          "data": {
            "image/png": "[encoded data removed]",
            "text/plain": [
              "<Figure size 432x288 with 1 Axes>"
            ]
          },
          "metadata": {
            "tags": []
          }
        }
      ]
    },
    {
      "cell_type": "markdown",
      "metadata": {
        "id": "SbMp7YiM1rxY",
        "colab_type": "text"
      },
      "source": [
        "#### Задача 1\n",
        "Написать функцию: на вход подается датасет и номер картинки.\n",
        "\n",
        "Функция выводит изображение на экран."
      ]
    },
    {
      "cell_type": "code",
      "metadata": {
        "id": "RUXAguSQ3c2X",
        "colab_type": "code",
        "colab": {}
      },
      "source": [
        "def output_image(data, N): # data - весь датасет, N - номер картинки\n",
        "  image = data[N]\n",
        "  plt.figure()\n",
        "  plt.imshow(image, cmap=plt.cm.binary)\n",
        "#plt.colorbar()\n",
        "  plt.grid(False)\n",
        "  plt.show()"
      ],
      "execution_count": 0,
      "outputs": []
    },
    {
      "cell_type": "code",
      "metadata": {
        "id": "z5nqb1c_3y2n",
        "colab_type": "code",
        "outputId": "69fc9021-37f9-4b5b-9788-0a8a0661cd84",
        "colab": {
          "base_uri": "https://localhost:8080/",
          "height": 269
        }
      },
      "source": [
        "output_image(x_train, 20200)"
      ],
      "execution_count": 0,
      "outputs": [
        {
          "output_type": "display_data",
          "data": {
            "image/png": "[encoded data removed]",
            "text/plain": [
              "<Figure size 432x288 with 1 Axes>"
            ]
          },
          "metadata": {
            "tags": []
          }
        }
      ]
    },
    {
      "cell_type": "markdown",
      "metadata": {
        "id": "1JZ0lRWWFmO2",
        "colab_type": "text"
      },
      "source": [
        "### Реализуем простейшую нейронную сеть"
      ]
    },
    {
      "cell_type": "markdown",
      "metadata": {
        "id": "6MjUn2IsxJ-R",
        "colab_type": "text"
      },
      "source": [
        "На вход нейронной сети подается изображение 28х28. Изображение конвертируется в одномерный массив размера 1 х 784.\n",
        "Нейронная сеть содержит один скрытый слой из 128 нейроном. Выходом нейросети является массив размерности 10 (количество классов классификации). Перое значение массива соответствует классу 0, второе значение классу 1 и т.д. Индекс самого большого значения в выходном векторе будет являться ответом нейросети.\n",
        "![alt text](https://drive.google.com/uc?export=view&id=1yYutQemjgMOybCtX5AC2NCvgaUWJgPwL)"
      ]
    },
    {
      "cell_type": "code",
      "metadata": {
        "id": "uG6r2c5NFlM6",
        "colab_type": "code",
        "outputId": "025abf66-f9cf-41b4-b970-906e4e0b8b57",
        "colab": {
          "base_uri": "https://localhost:8080/",
          "height": 139
        }
      },
      "source": [
        "from keras.models import Sequential\n",
        "from keras.layers.core import Dense, Activation\n",
        "\n",
        "model = Sequential()\n",
        "\n",
        "model.add(   Dense(128, input_shape=(784,))    )\n",
        "\n",
        "model.add(Activation('sigmoid'))\n",
        "\n",
        "model.add(Dense(10))\n",
        "\n",
        "model.add(Activation('softmax'))"
      ],
      "execution_count": 0,
      "outputs": [
        {
          "output_type": "stream",
          "text": [
            "WARNING:tensorflow:From /usr/local/lib/python3.6/dist-packages/keras/backend/tensorflow_backend.py:66: The name tf.get_default_graph is deprecated. Please use tf.compat.v1.get_default_graph instead.\n",
            "\n",
            "WARNING:tensorflow:From /usr/local/lib/python3.6/dist-packages/keras/backend/tensorflow_backend.py:541: The name tf.placeholder is deprecated. Please use tf.compat.v1.placeholder instead.\n",
            "\n",
            "WARNING:tensorflow:From /usr/local/lib/python3.6/dist-packages/keras/backend/tensorflow_backend.py:4432: The name tf.random_uniform is deprecated. Please use tf.random.uniform instead.\n",
            "\n"
          ],
          "name": "stdout"
        }
      ]
    },
    {
      "cell_type": "code",
      "metadata": {
        "id": "dSEqyZGRHFfN",
        "colab_type": "code",
        "outputId": "da5ac56b-d72f-4602-f620-e649718ad3ce",
        "colab": {
          "base_uri": "https://localhost:8080/",
          "height": 289
        }
      },
      "source": [
        "#Выведем краткие характеристики нейронной сети\n",
        "model.summary()"
      ],
      "execution_count": 0,
      "outputs": [
        {
          "output_type": "stream",
          "text": [
            "Model: \"sequential_1\"\n",
            "_________________________________________________________________\n",
            "Layer (type)                 Output Shape              Param #   \n",
            "=================================================================\n",
            "dense_1 (Dense)              (None, 128)               100480    \n",
            "_________________________________________________________________\n",
            "activation_1 (Activation)    (None, 128)               0         \n",
            "_________________________________________________________________\n",
            "dense_2 (Dense)              (None, 10)                1290      \n",
            "_________________________________________________________________\n",
            "activation_2 (Activation)    (None, 10)                0         \n",
            "=================================================================\n",
            "Total params: 101,770\n",
            "Trainable params: 101,770\n",
            "Non-trainable params: 0\n",
            "_________________________________________________________________\n"
          ],
          "name": "stdout"
        }
      ]
    },
    {
      "cell_type": "code",
      "metadata": {
        "id": "iSzq0824TSOJ",
        "colab_type": "code",
        "outputId": "573a621d-200f-4a7c-c84b-249620e78977",
        "colab": {
          "base_uri": "https://localhost:8080/",
          "height": 105
        }
      },
      "source": [
        "# ПАРАМЕТРЫ ПРЕДВАРИТЕЛЬНОЙ НАСТРОЙКИ НЕЙРОСЕТИ на данном уроке не обсуждаются\n",
        "\n",
        "from keras.optimizers import Adam\n",
        "\n",
        "model.compile(loss='categorical_crossentropy',\n",
        "              optimizer=Adam(), \n",
        "              metrics=['accuracy'])\n"
      ],
      "execution_count": 0,
      "outputs": [
        {
          "output_type": "stream",
          "text": [
            "WARNING:tensorflow:From /usr/local/lib/python3.6/dist-packages/keras/optimizers.py:793: The name tf.train.Optimizer is deprecated. Please use tf.compat.v1.train.Optimizer instead.\n",
            "\n",
            "WARNING:tensorflow:From /usr/local/lib/python3.6/dist-packages/keras/backend/tensorflow_backend.py:3576: The name tf.log is deprecated. Please use tf.math.log instead.\n",
            "\n"
          ],
          "name": "stdout"
        }
      ]
    },
    {
      "cell_type": "code",
      "metadata": {
        "id": "dzgB-cYPVSIZ",
        "colab_type": "code",
        "colab": {}
      },
      "source": [
        "# Выполним необходимые преобраования с данными для подачи их в метод обучения нейронной сети\n",
        "from keras import utils as np_utils\n",
        "\n",
        "x_train = x_train.reshape(60000,784)\n",
        "\n",
        "y_train = np_utils.to_categorical(y_train, 10)"
      ],
      "execution_count": 0,
      "outputs": []
    },
    {
      "cell_type": "code",
      "metadata": {
        "id": "v0CE2B6iU0Yx",
        "colab_type": "code",
        "outputId": "729f8a1e-7d6e-4d75-cf34-a6c85db2e7b3",
        "colab": {
          "base_uri": "https://localhost:8080/",
          "height": 547
        }
      },
      "source": [
        "model.fit(x_train, y_train, batch_size=100, epochs=5 )"
      ],
      "execution_count": 0,
      "outputs": [
        {
          "output_type": "stream",
          "text": [
            "WARNING:tensorflow:From /usr/local/lib/python3.6/dist-packages/tensorflow_core/python/ops/math_grad.py:1424: where (from tensorflow.python.ops.array_ops) is deprecated and will be removed in a future version.\n",
            "Instructions for updating:\n",
            "Use tf.where in 2.0, which has the same broadcast rule as np.where\n",
            "WARNING:tensorflow:From /usr/local/lib/python3.6/dist-packages/keras/backend/tensorflow_backend.py:1033: The name tf.assign_add is deprecated. Please use tf.compat.v1.assign_add instead.\n",
            "\n",
            "WARNING:tensorflow:From /usr/local/lib/python3.6/dist-packages/keras/backend/tensorflow_backend.py:1020: The name tf.assign is deprecated. Please use tf.compat.v1.assign instead.\n",
            "\n",
            "WARNING:tensorflow:From /usr/local/lib/python3.6/dist-packages/keras/backend/tensorflow_backend.py:3005: The name tf.Session is deprecated. Please use tf.compat.v1.Session instead.\n",
            "\n",
            "Epoch 1/5\n",
            "WARNING:tensorflow:From /usr/local/lib/python3.6/dist-packages/keras/backend/tensorflow_backend.py:190: The name tf.get_default_session is deprecated. Please use tf.compat.v1.get_default_session instead.\n",
            "\n",
            "WARNING:tensorflow:From /usr/local/lib/python3.6/dist-packages/keras/backend/tensorflow_backend.py:197: The name tf.ConfigProto is deprecated. Please use tf.compat.v1.ConfigProto instead.\n",
            "\n",
            "WARNING:tensorflow:From /usr/local/lib/python3.6/dist-packages/keras/backend/tensorflow_backend.py:207: The name tf.global_variables is deprecated. Please use tf.compat.v1.global_variables instead.\n",
            "\n",
            "WARNING:tensorflow:From /usr/local/lib/python3.6/dist-packages/keras/backend/tensorflow_backend.py:216: The name tf.is_variable_initialized is deprecated. Please use tf.compat.v1.is_variable_initialized instead.\n",
            "\n",
            "WARNING:tensorflow:From /usr/local/lib/python3.6/dist-packages/keras/backend/tensorflow_backend.py:223: The name tf.variables_initializer is deprecated. Please use tf.compat.v1.variables_initializer instead.\n",
            "\n",
            "60000/60000 [==============================] - 3s 57us/step - loss: 0.8434 - acc: 0.7234\n",
            "Epoch 2/5\n",
            "60000/60000 [==============================] - 3s 44us/step - loss: 0.6686 - acc: 0.7676\n",
            "Epoch 3/5\n",
            "60000/60000 [==============================] - 3s 43us/step - loss: 0.6551 - acc: 0.7674\n",
            "Epoch 4/5\n",
            "60000/60000 [==============================] - 2s 41us/step - loss: 0.6387 - acc: 0.7732\n",
            "Epoch 5/5\n",
            "60000/60000 [==============================] - 3s 42us/step - loss: 0.6381 - acc: 0.7704\n"
          ],
          "name": "stdout"
        },
        {
          "output_type": "execute_result",
          "data": {
            "text/plain": [
              "<keras.callbacks.History at 0x7fa3e2c0f6d8>"
            ]
          },
          "metadata": {
            "tags": []
          },
          "execution_count": 18
        }
      ]
    },
    {
      "cell_type": "markdown",
      "metadata": {
        "id": "msNeGc2lzgn2",
        "colab_type": "text"
      },
      "source": [
        "Выполним проверку работы нейронной сети на нескольких изображениях"
      ]
    },
    {
      "cell_type": "code",
      "metadata": {
        "id": "W5fbd4NaZWTu",
        "colab_type": "code",
        "outputId": "8abe802d-c42d-4cb7-c330-e9e75d105a0c",
        "colab": {
          "base_uri": "https://localhost:8080/",
          "height": 269
        }
      },
      "source": [
        "number_of_image = 2550\n",
        "output_image(x_test, number_of_image)"
      ],
      "execution_count": 0,
      "outputs": [
        {
          "output_type": "display_data",
          "data": {
            "image/png": "[encoded data removed]",
            "text/plain": [
              "<Figure size 432x288 with 1 Axes>"
            ]
          },
          "metadata": {
            "tags": []
          }
        }
      ]
    },
    {
      "cell_type": "code",
      "metadata": {
        "id": "hG_NghQtZfIC",
        "colab_type": "code",
        "outputId": "8f9f4366-eb9e-434b-b14f-e1ffaf916faf",
        "colab": {
          "base_uri": "https://localhost:8080/",
          "height": 34
        }
      },
      "source": [
        "y_test[number_of_image]"
      ],
      "execution_count": 0,
      "outputs": [
        {
          "output_type": "execute_result",
          "data": {
            "text/plain": [
              "9"
            ]
          },
          "metadata": {
            "tags": []
          },
          "execution_count": 34
        }
      ]
    },
    {
      "cell_type": "code",
      "metadata": {
        "id": "mk6xg3VjSNld",
        "colab_type": "code",
        "outputId": "401012f2-6ef5-4928-e990-c2f2803c1ed9",
        "colab": {
          "base_uri": "https://localhost:8080/",
          "height": 51
        }
      },
      "source": [
        "import numpy as np\n",
        "print(model.predict(x_test[number_of_image].reshape(1,784)))\n",
        "np.argmax(model.predict(x_test[number_of_image].reshape(1,784)))"
      ],
      "execution_count": 0,
      "outputs": [
        {
          "output_type": "stream",
          "text": [
            "[[7.9985801e-04 2.0298406e-03 1.5520788e-03 9.1310515e-04 9.4157195e-04\n",
            "  3.9689161e-02 8.3737192e-04 6.1180610e-02 5.2149384e-03 8.8684148e-01]]\n"
          ],
          "name": "stdout"
        }
      ]
    },
    {
      "cell_type": "markdown",
      "metadata": {
        "id": "Y_EIaSTwUyf1",
        "colab_type": "text"
      },
      "source": [
        "Найдите 5 - 10 номеров изображений, на которых нейросеть допустила ошибку"
      ]
    },
    {
      "cell_type": "markdown",
      "metadata": {
        "id": "oIpILac30Gc1",
        "colab_type": "text"
      },
      "source": [
        "#### Задача 2\n",
        "На шаге подготовки данных для подачи в метод обучения нейронной сети выполните нормировку данных.\n",
        "\n",
        "Код:\n",
        "\n",
        "x_train = x_train.reshape(60000,784)\n",
        "\n",
        "замените на код\n",
        "\n",
        "x_train_norm = x_train.reshape(60000,784)/255\n",
        "\n",
        "Далее везде используйте x_train_norm вместо x_train.\n",
        "\n",
        "**ВАЖНО!** Теперь при подаче на нейронную сеть изображения его необходимо нормировать!\n",
        "\n",
        "*Сколько картинок из ранее не распознанных (которые вы нашли) теперь классифицируются верно?*"
      ]
    },
    {
      "cell_type": "code",
      "metadata": {
        "id": "f4QjTDpc1CIq",
        "colab_type": "code",
        "colab": {}
      },
      "source": [
        "# Предикт будет выглядеть так\n",
        "print(model.predict(x_test[number_of_image].reshape(1,784)/255))"
      ],
      "execution_count": 0,
      "outputs": []
    }
  ]
}